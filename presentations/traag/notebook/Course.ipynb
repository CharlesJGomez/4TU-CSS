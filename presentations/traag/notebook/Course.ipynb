{
 "cells": [
  {
   "cell_type": "markdown",
   "metadata": {},
   "source": [
    "# Getting started"
   ]
  },
  {
   "cell_type": "markdown",
   "metadata": {},
   "source": [
    "The package we will use for our network analysis is `igraph`. There are also other packages out there for Python, such as `networkx` or `graphtool`, but will not use them during this course."
   ]
  },
  {
   "cell_type": "code",
   "execution_count": null,
   "metadata": {},
   "outputs": [],
   "source": [
    "import igraph as ig"
   ]
  },
  {
   "cell_type": "markdown",
   "metadata": {},
   "source": [
    "Note that at any time, you can get some information by pressing Shift-Tab when your cursor is on some function."
   ]
  },
  {
   "cell_type": "markdown",
   "metadata": {},
   "source": [
    "We can create a graph ourselves, adding vertices and edges as we go."
   ]
  },
  {
   "cell_type": "code",
   "execution_count": null,
   "metadata": {},
   "outputs": [],
   "source": [
    "G = ig.Graph(directed=False)\n",
    "G.add_vertices(n=4)\n",
    "G.add_edges([(0, 1),\n",
    "             (0, 2),\n",
    "             (0, 3),\n",
    "             (1, 2),\n",
    "             (1, 3),\n",
    "             (2, 3)])"
   ]
  },
  {
   "cell_type": "markdown",
   "metadata": {},
   "source": [
    "We can get a summary of the graph, providing some basic information on the graph"
   ]
  },
  {
   "cell_type": "code",
   "execution_count": null,
   "metadata": {},
   "outputs": [],
   "source": [
    "G.summary()"
   ]
  },
  {
   "cell_type": "markdown",
   "metadata": {},
   "source": [
    "The result indicates this graph is undirected (indicated by the `U`) has 4 nodes and 6 edges. The information on the number of nodes and edges can also be obtained using functions."
   ]
  },
  {
   "cell_type": "code",
   "execution_count": null,
   "metadata": {},
   "outputs": [],
   "source": [
    "n = G.vcount()\n",
    "m = G.ecount()\n",
    "print('{0} nodes, {1} edges'.format(n, m))"
   ]
  },
  {
   "cell_type": "markdown",
   "metadata": {},
   "source": [
    "In the remainder of this exercise, we will work with a built-in graph that is quite famous: the karate club network constructed by [Zachary (1977)](https://www.jstor.org/stable/3629752?seq=1#page_scan_tab_contents)."
   ]
  },
  {
   "cell_type": "code",
   "execution_count": null,
   "metadata": {},
   "outputs": [],
   "source": [
    "G = ig.Graph.Famous('Zachary')"
   ]
  },
  {
   "cell_type": "markdown",
   "metadata": {},
   "source": [
    "You can plot the graph easily"
   ]
  },
  {
   "cell_type": "code",
   "execution_count": null,
   "metadata": {},
   "outputs": [],
   "source": [
    "G['layout'] = G.layout_fruchterman_reingold()\n",
    "G.vs['color'] = 'gray'\n",
    "G.es['color'] = 'gray'\n",
    "ig.plot(G)"
   ]
  },
  {
   "cell_type": "markdown",
   "metadata": {},
   "source": [
    "The most basic elements of any graph are the *nodes* and the connection between the nodes, called *edges*. Nodes are also called *vertices* and edges are also called *links*. These words will be used interchangebly. Vertices and edges are the terms that are most often used in graph theory, while nodes and links are more common in (social) network analysis. Sometimes, you also see the term *tie* or *arc* for referring to an edge."
   ]
  },
  {
   "cell_type": "markdown",
   "metadata": {},
   "source": [
    "In `igraph` the terms vertex and edges are used throughout, and they can be accessed through a so-called `VertexSequence` and `EdgeSequence`. You can make different selections of vertices and edges, either based on attributes or simply specifying specific (vertex or edge) indices. The functionality on vertex and edge sequences is quite extensive. The following just demonstrates one possibility."
   ]
  },
  {
   "cell_type": "code",
   "execution_count": null,
   "metadata": {},
   "outputs": [],
   "source": [
    "vs = G.vs[[0, 1, 2, 3]]\n",
    "es = G.es.select(_within=vs)\n",
    "vs['color'] = 'blue'\n",
    "es['color'] = 'blue'\n",
    "ig.plot(G)"
   ]
  },
  {
   "cell_type": "markdown",
   "metadata": {},
   "source": [
    "The nodes that are linked to another node are called the *neighbors* of a node. The number of neighbours is called the *degree* of a node."
   ]
  },
  {
   "cell_type": "code",
   "execution_count": null,
   "metadata": {},
   "outputs": [],
   "source": [
    "neighbors = G.neighbors(4)\n",
    "print(neighbors, G.degree(4))"
   ]
  },
  {
   "cell_type": "markdown",
   "metadata": {},
   "source": [
    "# Paths"
   ]
  },
  {
   "cell_type": "markdown",
   "metadata": {},
   "source": [
    "One of the most basic operations on any network is finding a *path* from one node to another node, not unlike finding a route from one city to another using some navigational software."
   ]
  },
  {
   "cell_type": "code",
   "execution_count": null,
   "metadata": {},
   "outputs": [],
   "source": [
    "edge_paths = G.get_shortest_paths(v=16, to=15, output='epath')\n",
    "edge_paths"
   ]
  },
  {
   "cell_type": "markdown",
   "metadata": {},
   "source": [
    "This retrieves a shortest path between node `16` and node `15`. It returns the *indices* of the edges because we set `output='epath'`. In this case there is only one path of 5 edges long. We can also get the endpoints of those edges, so that the path becomes a bit more clear."
   ]
  },
  {
   "cell_type": "code",
   "execution_count": null,
   "metadata": {},
   "outputs": [],
   "source": [
    "edge_path = G.es[edge_paths[0]];\n",
    "[(edge.source, edge.target) for edge in edge_path]"
   ]
  },
  {
   "cell_type": "markdown",
   "metadata": {},
   "source": [
    "We can also get the same path in terms of vertices"
   ]
  },
  {
   "cell_type": "code",
   "execution_count": null,
   "metadata": {},
   "outputs": [],
   "source": [
    "vertex_path = G.vs[G.get_shortest_paths(v=16, to=15, output='vpath')[0]]\n",
    "[v.index for v in vertex_path]"
   ]
  },
  {
   "cell_type": "markdown",
   "metadata": {},
   "source": [
    "We can visualize this path as follows."
   ]
  },
  {
   "cell_type": "code",
   "execution_count": null,
   "metadata": {},
   "outputs": [],
   "source": [
    "G.vs['color'] = 'gray'\n",
    "vertex_path['color'] = 'red'\n",
    "\n",
    "G.es['color'] = 'gray'\n",
    "G.es['width'] = 0.5\n",
    "edge_path['color'] = 'red'\n",
    "edge_path['width'] = 2\n",
    "\n",
    "ig.plot(G)"
   ]
  },
  {
   "cell_type": "markdown",
   "metadata": {},
   "source": [
    "Rather than determining the actual shortest paths, we may also simply be interested in the distance between two nodes."
   ]
  },
  {
   "cell_type": "code",
   "execution_count": null,
   "metadata": {},
   "outputs": [],
   "source": [
    "G.shortest_paths(source=16, target=15)"
   ]
  },
  {
   "cell_type": "markdown",
   "metadata": {},
   "source": [
    "This only provides the actual length of the path (5 edges) rather than the actual path. We can also use this function to get the distance of all nodes to all other nodes. This is conveniently represented as a matrix, for which the `numpy` library is especially well suited."
   ]
  },
  {
   "cell_type": "code",
   "execution_count": null,
   "metadata": {},
   "outputs": [],
   "source": [
    "import numpy as np\n",
    "distances = np.array(G.shortest_paths())\n",
    "distances"
   ]
  },
  {
   "cell_type": "markdown",
   "metadata": {},
   "source": [
    "The largest distance from a node to any other node is called the *eccentricity*. If a node has a very high eccentricity, it is a bit peripheral. If a node has a very low eccentricity, it means that it is relatively close to to all other nodes, and that it is in the center of the graph in a certain sense."
   ]
  },
  {
   "cell_type": "code",
   "execution_count": null,
   "metadata": {},
   "outputs": [],
   "source": [
    "eccentricity = distances.max(1)\n",
    "ig.plot(G, vertex_size=5*(6 - eccentricity))"
   ]
  },
  {
   "cell_type": "markdown",
   "metadata": {},
   "source": [
    "The minimum eccentricity is called the *radius* of the graph and the maximum eccentricity is called the *diameter*. The diameter of any graph is always larger than the radius and smaller than twice the radius."
   ]
  },
  {
   "cell_type": "markdown",
   "metadata": {},
   "source": [
    "The network we currently look at is connected, which is not necessarily the case. It can consist of multiple components. Let us delete a number of edges so that we get a network with two components."
   ]
  },
  {
   "cell_type": "code",
   "execution_count": null,
   "metadata": {},
   "outputs": [],
   "source": [
    "G.delete_edges(G.es.select(_between=[(4, 5, 6, 10), (0,)]))\n",
    "ig.plot(G)"
   ]
  },
  {
   "cell_type": "markdown",
   "metadata": {},
   "source": [
    "The path we constructed earlier is now no longer connected. In this case, there is no longer any path between the two nodes at all. The distance between the two nodes in hence infinitely large."
   ]
  },
  {
   "cell_type": "code",
   "execution_count": null,
   "metadata": {},
   "outputs": [],
   "source": [
    "G.shortest_paths(source=16, target=15)"
   ]
  },
  {
   "cell_type": "markdown",
   "metadata": {},
   "source": [
    "There is now no longer a path between any two nodes, and the graph is then no longer said to be *connected*."
   ]
  },
  {
   "cell_type": "code",
   "execution_count": null,
   "metadata": {},
   "outputs": [],
   "source": [
    "G.is_connected()"
   ]
  },
  {
   "cell_type": "markdown",
   "metadata": {},
   "source": [
    "The network is now said to be *disconnected* and the different parts of the network that still are connected are called *connected components*."
   ]
  },
  {
   "cell_type": "code",
   "execution_count": null,
   "metadata": {},
   "outputs": [],
   "source": [
    "components = G.clusters()\n",
    "G.vs[components[0]]['color'] = 'red'\n",
    "G.vs[components[1]]['color'] = 'blue'\n",
    "ig.plot(G)"
   ]
  },
  {
   "cell_type": "markdown",
   "metadata": {},
   "source": [
    "Usually, networks tend to have one large component, and many smaller components. In empirical networks, it is therefore common practice to restrict any further analyses to the largest connected component. Because the difference between the largest connected component and the other components is usually quite large, the largest connected component is sometimes also called the *giant component*."
   ]
  },
  {
   "cell_type": "code",
   "execution_count": null,
   "metadata": {},
   "outputs": [],
   "source": [
    "H = G.clusters().giant()\n",
    "ig.plot(H, layout=H.layout_fruchterman_reingold())"
   ]
  },
  {
   "cell_type": "markdown",
   "metadata": {},
   "source": [
    "# Cycles"
   ]
  },
  {
   "cell_type": "markdown",
   "metadata": {},
   "source": [
    "If there are two paths going from one node to another node, we can join them together and make a *cycle*. We start again with a fresh graph."
   ]
  },
  {
   "cell_type": "code",
   "execution_count": null,
   "metadata": {},
   "outputs": [],
   "source": [
    "G = ig.Graph.Famous('Zachary')\n",
    "G['layout'] = G.layout_fruchterman_reingold()"
   ]
  },
  {
   "cell_type": "code",
   "execution_count": null,
   "metadata": {},
   "outputs": [],
   "source": [
    "cycle = G.es[G.get_eids(path=(24, 25, 23, 27, 24))]\n",
    "\n",
    "G.es['color'] = 'gray'\n",
    "G.es['width'] = 0.5\n",
    "cycle['color'] = 'red'\n",
    "cycle['width'] = 2\n",
    "\n",
    "ig.plot(G)"
   ]
  },
  {
   "cell_type": "markdown",
   "metadata": {},
   "source": [
    "This is a cycle of length 4, but longer cycles do exist in the graph. The smallest cycle of length 3 are of particular interest to the social sciences. A small group of three people is commonly called a *triad* in the social sciences. It is of particular interest because if two people have a friend in common, they are more likely to become friends themselves. This is known as *triadic closure*.\n",
    "\n",
    "If there are many closed triads, i.e. many cycles of length 3, it suggests that many people have many friends in common. In particular, the network is then said to be *clustered*. The *clustering coefficient* for a node is defined as the proportion of neighbours that are connected amongst each other. A clustering coefficient of 1 then means that all the neighbours of a node are connected to each other, while a clustering coefficient of 0 means that no neigbhours are connected amongst each other. The overall clustering is then simply the average over the whole network."
   ]
  },
  {
   "cell_type": "code",
   "execution_count": null,
   "metadata": {},
   "outputs": [],
   "source": [
    "clustering = G.transitivity_local_undirected(mode=\"zero\")\n",
    "\n",
    "ig.plot(G, vertex_size=10*(np.array(clustering)+0.5))"
   ]
  },
  {
   "cell_type": "markdown",
   "metadata": {},
   "source": [
    "As you can see, the nodes that are more clustered seem to be more peripheral. This is something that can be seen more\n",
    "often. Nodes that have many neighbours usually have fewer connections between *all* their neighbours, so that they tend to have a lower clustering coefficient.\n",
    "\n",
    "Nodes that have a higher clustering coefficient tend to be well embedded in the network. Nodes with a low clustering coefficient on the other hand tend to function as bridges, connecting different parts of the network. For example, when removing node 0 from the network, this disconnects the network."
   ]
  },
  {
   "cell_type": "code",
   "execution_count": null,
   "metadata": {},
   "outputs": [],
   "source": [
    "H = G.copy()\n",
    "H.delete_vertices(0)\n",
    "components = H.clusters()\n",
    "ig.plot(components, layout=H.layout_fruchterman_reingold())"
   ]
  },
  {
   "cell_type": "markdown",
   "metadata": {},
   "source": [
    "This means that node 0 functions as a bridge. In fact, this is the only strict bridge in this graph."
   ]
  },
  {
   "cell_type": "code",
   "execution_count": null,
   "metadata": {},
   "outputs": [],
   "source": [
    "is_bridge = [False]*G.vcount()\n",
    "for v in range(G.vcount()):\n",
    "    H = G.copy()\n",
    "    H.delete_vertices(v)\n",
    "    is_bridge[v] = len(H.clusters()) > 1\n",
    "    \n",
    "ig.plot(G, vertex_color=is_bridge, palette=ig.RainbowPalette(2))"
   ]
  },
  {
   "cell_type": "markdown",
   "metadata": {},
   "source": [
    "# Social network analysis"
   ]
  },
  {
   "cell_type": "markdown",
   "metadata": {},
   "source": [
    "## Homophily"
   ]
  },
  {
   "cell_type": "markdown",
   "metadata": {},
   "source": [
    "If two nodes are more likely to be connected when they share a certain attribute, this is known as *homophily*. We will illustrate this on a network of contact between pupils from a high school available from [SocioPatterns](http://www.sociopatterns.org/datasets/high-school-contact-and-friendship-networks/). The contacts were collected through devices that would automatically record face-to-face interaction (i.e. physical proximity) between pupils during 5 days."
   ]
  },
  {
   "cell_type": "code",
   "execution_count": null,
   "metadata": {},
   "outputs": [],
   "source": [
    "import ighelper\n",
    "G = ighelper.GraphFromURL('https://storage.googleapis.com/css-files/sociopatterns.graphml')\n",
    "G = G.clusters().giant()\n",
    "\n",
    "G.es['width'] = 0.01*np.array(G.es['weight'])\n",
    "G['layout'] = G.layout_fruchterman_reingold(weights='weight')\n",
    "G.vs['color'] = ['pink' if v['gender'] == 'F' else 'blue' for v in G.vs]\n",
    "\n",
    "ig.plot(G)"
   ]
  },
  {
   "cell_type": "markdown",
   "metadata": {},
   "source": [
    "In the above plot, the male pupils are colored blue, and the females pink. Now the central question is whether males and femals tend to have more links to the same sex, or more evenly distributed. The more general term for homophily is *assortativity*, which refers to how likely two nodes that have the same attribute are linked. In the plot above it is not immediately clear whether there is gender assortativity (or homophily) in this network. But using a statistical measure of assortativity gives us more insight."
   ]
  },
  {
   "cell_type": "code",
   "execution_count": null,
   "metadata": {},
   "outputs": [],
   "source": [
    "G.assortativity_nominal(ig.VertexClustering.FromAttribute(G, 'gender').membership)"
   ]
  },
  {
   "cell_type": "markdown",
   "metadata": {},
   "source": [
    "Like a correlation, the assortativity would be 0 if gender would have no relation with the connectivity, 1 if all connections would only be between nodes of the same class and -1 if all connections would only be between nodes of different classes. An assortativity of 0.17 is then not very high, but it does indicate some tendency for pupils of the same sex to be linked."
   ]
  },
  {
   "cell_type": "markdown",
   "metadata": {},
   "source": [
    "The pupils mostly associate with other people from the same (school)class. This is again clear from the assortativity based on the (school)class."
   ]
  },
  {
   "cell_type": "code",
   "execution_count": null,
   "metadata": {},
   "outputs": [],
   "source": [
    "G.assortativity_nominal(ig.VertexClustering.FromAttribute(G, 'class').membership)"
   ]
  },
  {
   "cell_type": "markdown",
   "metadata": {},
   "source": [
    "If we look at the gender assortativity per class this drops to 0. This suggests that the overall assortativity of 0.17 due to gender imbalance in the classes."
   ]
  },
  {
   "cell_type": "code",
   "execution_count": null,
   "metadata": {},
   "outputs": [],
   "source": [
    "classes = ig.VertexClustering.FromAttribute(G, 'class');\n",
    "for H in classes.subgraphs():\n",
    "    gender_ratio = sum([v['gender'] == 'F' for v in H.vs])/float(H.vcount())\n",
    "    gender_assortativity = H.assortativity_nominal(ig.VertexClustering.FromAttribute(H, 'gender').membership)\n",
    "    print('class: {0},\\t% female: {1:.2f},\\tassortativity: {2: .3f}'.format(H.vs['class'][0], gender_ratio, gender_assortativity))"
   ]
  },
  {
   "cell_type": "markdown",
   "metadata": {},
   "source": [
    "## Social influence"
   ]
  },
  {
   "cell_type": "markdown",
   "metadata": {},
   "source": [
    "One of the key concepts in social network analysis is social influence. The basic idea is that people that are linked influence each other. For example, if person A holds opinion A but all his neighbors hold opinion B, then he is likely to switch to opinion A. Let us simulate some simple opinion dynamics on the highschool network. We will assume that every node will switch to the majority opinion in its neighborhood, and we will start from some random initial condition."
   ]
  },
  {
   "cell_type": "code",
   "execution_count": null,
   "metadata": {},
   "outputs": [],
   "source": [
    "G = ighelper.GraphFromURL('https://storage.googleapis.com/css-files/sociopatterns.graphml')\n",
    "G = G.clusters().giant()"
   ]
  },
  {
   "cell_type": "code",
   "execution_count": null,
   "metadata": {},
   "outputs": [],
   "source": [
    "G.vs['opinion'] = 0\n",
    "G.vs['new_opinion'] = np.random.randint(2, size=G.vcount())\n",
    "\n",
    "while G.vs['opinion'] != G.vs['new_opinion']:\n",
    "    G.vs['opinion'] = G.vs['new_opinion']\n",
    "    for v in G.vs:\n",
    "        v['new_opinion'] = 1*(sum(G.vs[G.neighbors(v)]['opinion']) > 0.5*v.degree())\n",
    "\n",
    "#G.vs[v.neighbors()]['opinion']\n",
    "ig.plot(G, vertex_color=G.vs['opinion'], palette=ig.RainbowPalette(2))"
   ]
  },
  {
   "cell_type": "markdown",
   "metadata": {},
   "source": [
    "One of the problems with social influence is that it usually is confounded with homophily. Let us check if there is assortativity on the result of the opinion dynamics."
   ]
  },
  {
   "cell_type": "code",
   "execution_count": null,
   "metadata": {},
   "outputs": [],
   "source": [
    "G.assortativity_nominal(G.vs['opinion'])"
   ]
  },
  {
   "cell_type": "markdown",
   "metadata": {},
   "source": [
    "The assortativity on the opinion is roughly the same as the assortativity on the classes. But then begs the question of whether homophily was operating or social influence. The cases here are clear. The class likely influences the probability of a link, so homophily is operating. In the opinion dynamics simulation, we know that the network did not change, but only the opinion did, so there is clear social influence. But if we empirically see that there is some assortativity on some variable, we cannot determine unambiguously whether there is homophily or social influence."
   ]
  },
  {
   "cell_type": "markdown",
   "metadata": {},
   "source": [
    "## Centrality"
   ]
  },
  {
   "cell_type": "markdown",
   "metadata": {},
   "source": [
    "Sometimes, rather than viewing social influence as a process, it is seen as the overall influence some person can exert over others. It is thought that more central persons are generally more influential. In order to sway opinion, you could for example better target the more central person. However, there are several variants of centrality, and all of them have some merit. We will illustrate them on the karate club network again."
   ]
  },
  {
   "cell_type": "code",
   "execution_count": null,
   "metadata": {},
   "outputs": [],
   "source": [
    "G = ig.Graph.Famous('Zachary')\n",
    "G.vs['color'] = 'gray'\n",
    "G.es['color'] = 'gray'\n",
    "G['layout'] = G.layout_auto()"
   ]
  },
  {
   "cell_type": "markdown",
   "metadata": {},
   "source": [
    "### Degree centrality"
   ]
  },
  {
   "cell_type": "markdown",
   "metadata": {},
   "source": [
    "The simples is degree centrality, which is nothing more than simply the number of contacts somebody has."
   ]
  },
  {
   "cell_type": "code",
   "execution_count": null,
   "metadata": {},
   "outputs": [],
   "source": [
    "G.vs['centrality'] = G.degree()\n",
    "ig.plot(G, vertex_size=G.vs['centrality'])"
   ]
  },
  {
   "cell_type": "markdown",
   "metadata": {},
   "source": [
    "### Eigenvector centrality"
   ]
  },
  {
   "cell_type": "markdown",
   "metadata": {},
   "source": [
    "The idea of eigenvector centrality is that you are as central as the people you are connected with. So, if you connect to many central people, you should be central yourself. Perhaps this recursive notion of centrality is confusion, but it leads to an elegant solution. If you write out the math, it turns out the largest so-called eigenvector is actually the solution, whence the name."
   ]
  },
  {
   "cell_type": "code",
   "execution_count": null,
   "metadata": {},
   "outputs": [],
   "source": [
    "G.vs['centrality'] = G.eigenvector_centrality()\n",
    "ig.plot(G, vertex_size=10*np.array(G.vs['centrality']))"
   ]
  },
  {
   "cell_type": "markdown",
   "metadata": {},
   "source": [
    "### Pagerank"
   ]
  },
  {
   "cell_type": "markdown",
   "metadata": {},
   "source": [
    "One problem with eigenvector centrality is that it is not always well-defined in the case of directed graphs. The interesting thing of eigenvector centrality is that it is similar to the proportion of time spent in a node if a *random walker* would traverse the network, choosing links to follow at random. In directed graphs there may be so-called *sinks*: nodes with no outgoing edges. If you think of a random walker, you can imagine the problem: (s)he gets stuck in a sink. The opposite of *sinks* are called *sources*: nodes with no incoming edge. A random walker would then never arrive in a source.\n",
    "\n",
    "To alleviate this problem, the idea of *teleportation* was introduced. With a small probability a random walker would start in any other node at random. Hence, from any sink node the walker can then always escape, and there is always a probability (s)he arrives at a source node. This was introduced by the founders of Google to model a *random surfer*, jumping from webpage to webpage and every now and then starting anew. This centrality measure is called pagerank, and it forms the core of Google's search engine."
   ]
  },
  {
   "cell_type": "code",
   "execution_count": null,
   "metadata": {},
   "outputs": [],
   "source": [
    "G.vs['centrality'] = G.pagerank()\n",
    "ig.plot(G, vertex_size=100*np.array(G.vs['centrality']))"
   ]
  },
  {
   "cell_type": "markdown",
   "metadata": {},
   "source": [
    "### Betweenness centrality"
   ]
  },
  {
   "cell_type": "markdown",
   "metadata": {},
   "source": [
    "The previous two centralities were based on random walks in a certain sense. Betweenness centrality in contrast uses the shortest path rather than random walks. The fraction of the shortest paths that goes through a certain node is called the betweenness centrality."
   ]
  },
  {
   "cell_type": "code",
   "execution_count": null,
   "metadata": {},
   "outputs": [],
   "source": [
    "G.vs['centrality'] = G.betweenness(G.vs)\n",
    "ig.plot(G, vertex_size=0.1*np.array(G.vs['centrality']) + 1)"
   ]
  },
  {
   "cell_type": "markdown",
   "metadata": {},
   "source": [
    "As you can see, most centralities tend to give relatively similar results, but there can be some variation."
   ]
  },
  {
   "cell_type": "markdown",
   "metadata": {},
   "source": [
    "## Weak ties"
   ]
  },
  {
   "cell_type": "markdown",
   "metadata": {},
   "source": [
    "There are two main ideas associated with the so-called strenght of weak ties (i.e. links of low weight). The first is that weak ties hold together the network. The second is that new information is obtained through weak ties. The first can be studied relatively easily on any given weighted network. The second is more difficult, and is less frequently studied, because it also requires observations on information sharing.\n",
    "\n",
    "The idea that weak ties hold together the network can be studied in two contexts. One straightforward possibility is that if we cut weak ties we relatively quickly disconnect the network. Another possibility is that weak ties mostly fall between groups of people. Finally, it is often also analysed whether weak ties mostly fall between nodes that have relatively few common neighbors.\n",
    "\n",
    "We will study this using the highschool network."
   ]
  },
  {
   "cell_type": "code",
   "execution_count": null,
   "metadata": {},
   "outputs": [],
   "source": [
    "G = ighelper.GraphFromURL('https://storage.googleapis.com/css-files/sociopatterns.graphml')\n",
    "G = G.clusters().giant()\n",
    "G['layout'] = G.layout_fruchterman_reingold(weights='weight')"
   ]
  },
  {
   "cell_type": "markdown",
   "metadata": {},
   "source": [
    "Let us delete edges from the graph in two different orders: the weakest edges first or the strongest edges first. We look at whether there is a clear giant component, or whether the network splits into more equally sized components."
   ]
  },
  {
   "cell_type": "code",
   "execution_count": null,
   "metadata": {},
   "outputs": [],
   "source": [
    "H = G.copy()\n",
    "weak_component_size = [];\n",
    "while H.ecount() > 0:\n",
    "    H.delete_edges(min(H.es, key=lambda e: e['weight']))\n",
    "    #weak_component_size.append(H.clusters().giant().vcount())\n",
    "    cl = H.clusters()\n",
    "    weak_component_size.append(sum(np.array(cl.sizes())**2) - cl.giant().vcount()**2)\n",
    "    \n",
    "H = G.copy()\n",
    "strong_component_size = [];\n",
    "while H.ecount() > 0:\n",
    "    H.delete_edges(max(H.es, key=lambda e: e['weight']))\n",
    "    #strong_component_size.append(H.clusters().giant().vcount())    \n",
    "    cl = H.clusters()\n",
    "    strong_component_size.append(sum(np.array(cl.sizes())**2) - cl.giant().vcount()**2)"
   ]
  },
  {
   "cell_type": "markdown",
   "metadata": {},
   "source": [
    "Plotting the results shows that the deleting the weak edges first tends to have a quite different effect than deleting the strong edges first."
   ]
  },
  {
   "cell_type": "code",
   "execution_count": null,
   "metadata": {},
   "outputs": [],
   "source": [
    "import seaborn as sns\n",
    "%matplotlib inline\n",
    "plt.plot(weak_component_size, label='Weak')\n",
    "plt.plot(strong_component_size, label='Strong')\n",
    "plt.xlabel('Edge number')\n",
    "plt.ylabel('LCC size')\n",
    "plt.legend(loc='best');"
   ]
  },
  {
   "cell_type": "markdown",
   "metadata": {},
   "source": [
    "The plot may be a bit obscure. Inspecting the actual resulting networks after deleting a critical amount of edges may be more revealing."
   ]
  },
  {
   "cell_type": "code",
   "execution_count": null,
   "metadata": {},
   "outputs": [],
   "source": [
    "break_point = np.array(weak_component_size).argmax()"
   ]
  },
  {
   "cell_type": "markdown",
   "metadata": {},
   "source": [
    "Let us first look at the network if we remove the strong links first. It is clear that this network has a single giant component, which is only connected through weak links, and many isolated nodes."
   ]
  },
  {
   "cell_type": "code",
   "execution_count": null,
   "metadata": {},
   "outputs": [],
   "source": [
    "H = G.copy()\n",
    "del H['layout']\n",
    "H.delete_edges(sorted(H.es, key=lambda e: e['weight'], reverse=True)[:break_point])\n",
    "ig.plot(H.clusters(), edge_width=0.001*np.array(H.es['weight']))"
   ]
  },
  {
   "cell_type": "markdown",
   "metadata": {},
   "source": [
    "This contrasts sharply to the network if we remove the weak links first. We can clearly see that it seperates into several smaller sizeable components."
   ]
  },
  {
   "cell_type": "code",
   "execution_count": null,
   "metadata": {},
   "outputs": [],
   "source": [
    "H = G.copy()\n",
    "del H['layout']\n",
    "H.delete_edges(sorted(H.es, key=lambda e: e['weight'])[:break_point])\n",
    "ig.plot(H.clusters(), edge_width=0.001*np.array(H.es['weight']))"
   ]
  },
  {
   "cell_type": "markdown",
   "metadata": {},
   "source": [
    "There are some obvious groups in this networks, namely the classes. The weak links would then be expected to fall between the different classes, while the stronger links are more likely to be found within the classes. This can easily be computed."
   ]
  },
  {
   "cell_type": "code",
   "execution_count": null,
   "metadata": {},
   "outputs": [],
   "source": [
    "classes = ig.VertexClustering.FromAttribute(G, 'class')\n",
    "is_crossing_edge = classes.crossing()\n",
    "weight_between = np.mean([e['weight'] for e in G.es if is_crossing_edge[e.index]])\n",
    "weight_within = np.mean([e['weight'] for e in G.es if not is_crossing_edge[e.index]])\n",
    "print('Weight within {0:.2f}, between {1:.2f}.'.format(weight_within, weight_between))"
   ]
  },
  {
   "cell_type": "markdown",
   "metadata": {},
   "source": [
    "Finally, we can check if strong links tend to occur between people that have a high overlap of common neighbours. This overlap is usually calculated as the Jaccard similarity."
   ]
  },
  {
   "cell_type": "code",
   "execution_count": null,
   "metadata": {},
   "outputs": [],
   "source": [
    "import pandas as pd\n",
    "jaccard_similarity = G.similarity_jaccard(pairs=G.get_edgelist());\n",
    "df = pd.DataFrame({'jaccard': jaccard_similarity, \n",
    "                   'weight': G.es['weight']})\n",
    "df['jaccard_group'] = np.round(df['jaccard'], 1)\n",
    "\n",
    "sns.boxplot(x='jaccard_group', y='weight', data=df)\n",
    "plt.yscale('log')"
   ]
  },
  {
   "cell_type": "markdown",
   "metadata": {},
   "source": [
    "## Structural holes"
   ]
  },
  {
   "cell_type": "markdown",
   "metadata": {},
   "source": [
    "When nodes have a high clustering coefficient, they are often thought to be well *embedded* in the network. People in such a position in the network tend to have friends that are also friends themselves. In a certain sense, they are in a *cohesive* environment. This is generally thought to increase trust in one another, but also tends to be associated with higher peer pressure and social norm enforcement.\n",
    "\n",
    "Node that have a low clustering coefficient occupy a rather different position in the network. They tend to connect different parts of the network, and we earlier saw that they tend to act as bridges. This notion of a bridge can be a bit relaxed to a *local bridge*: an edge without common neighbors, or stated differently a jaccard similarity of 0.\n",
    "\n",
    "Nodes with such a position are said to be in a position of a *structural hole*. They are the go-between for different people, providing such strutural holes with a strategic advantage. For example, a real-estate agent may facilitate a transaction between a buyer and a seller. Neither buyer nor seller would be connected if it wasn't for the real-estate agent. Indeed, people in such a position of a *structural hole* are sometimes also called *brokers*.\n",
    "\n",
    "Structural holes are also thought to have more opportunities for innovation and creativity. At the interface of different groups, people occupying structural holes may hear much more, and diverse, information. This could enable them to integrate this diverse information into something new.\n",
    "\n",
    "Let us identify the brokers in the highschool network."
   ]
  },
  {
   "cell_type": "code",
   "execution_count": null,
   "metadata": {},
   "outputs": [],
   "source": [
    "G.vs['clustering'] = G.transitivity_local_undirected()\n",
    "most_broker = min(G.vs, key=lambda v: v['clustering'])\n",
    "\n",
    "G.vs['color'] = 'gray'\n",
    "most_broker['color'] = 'red'\n",
    "G.vs[G.neighbors(most_broker)]['color'] = 'blue'\n",
    "\n",
    "ig.plot(G, edge_width=0.001*np.array(G.es['weight']), vertex_size=5.0/np.array(G.vs['clustering']))"
   ]
  },
  {
   "cell_type": "markdown",
   "metadata": {},
   "source": [
    "As can be seen, the node with the lowest clustering tends to connect people from across the network. This contrasts to a node with a higher clustering (but at least as many neighbors)."
   ]
  },
  {
   "cell_type": "code",
   "execution_count": null,
   "metadata": {},
   "outputs": [],
   "source": [
    "least_broker = max(G.vs.select(_degree_ge=most_broker.degree()), key=lambda v: v['clustering'])\n",
    "                   \n",
    "G.vs['color'] = 'gray'\n",
    "least_broker['color'] = 'red'\n",
    "G.vs[G.neighbors(least_broker)]['color'] = 'blue'\n",
    "\n",
    "ig.plot(G, edge_width=0.001*np.array(G.es['weight']), vertex_size=5.0/np.array(G.vs['clustering']))"
   ]
  },
  {
   "cell_type": "markdown",
   "metadata": {},
   "source": [
    "We can make this more explicit. We can calculate the dispersion of neighbors across different classes in the network as the entropy. A higher entropy indicates that the neighbors are more equally distributed across the network, whereas a lower entropy indicates that the neighbors are mostly concentrated in a few classes."
   ]
  },
  {
   "cell_type": "code",
   "execution_count": null,
   "metadata": {},
   "outputs": [],
   "source": [
    "from collections import Counter\n",
    "\n",
    "def entropy(lst):\n",
    "    freq = Counter(lst);\n",
    "    prob = [float(f)/len(lst) for f in freq.itervalues()]\n",
    "    return -sum(prob*np.log(prob))\n",
    "\n",
    "entropy_node = [entropy(G.vs[G.neighbors(v)]['class']) for v in G.vs];\n",
    "\n",
    "plt.plot(G.vs['clustering'], entropy_node, '.')\n",
    "plt.xlabel('Clustering')\n",
    "plt.ylabel('Entropy')"
   ]
  },
  {
   "cell_type": "markdown",
   "metadata": {},
   "source": [
    "## Equivalence"
   ]
  },
  {
   "cell_type": "markdown",
   "metadata": {},
   "source": [
    "People occupy different positions in a network. We already saw brokers for example. This idea can be somewhat generalized to the notion of equivalence. The most strict definition of equivalence between two nodes is if they share the exacte same neighbors, called *structural equivalence*. A slightly more relaxed definition is that of *isomorphic equivalence*, meaning that switching the labelling of two nodes that are isomorphically equivalent does not change the structure of the graph. This is still quite restrictive actually, and very hard to compute. \n",
    "\n",
    "The most relaxed definition is *regular equivalence*, which considers two nodes as equivalent if they connect to similar others. For example, employees report to their managers who report to the board. Then all managers occupy a regularly equivalent position: they connect to employees and board members. Similarly all employees are regularly equivalent: they all report to managers (even though they don't necessarily report to the same manager). This is a recursive definition, and also is relatively difficult to compute. \n",
    "\n",
    "Of course exact regular equivalence may not be the most informative, so some trade-off between the number of 'errors' (i.e. deviating from the other members of the equivalence class) may be tolerated. This is sometimes also referred to as *role detection* as a generalization of *community detection* which we will encounter later on.\n",
    "\n",
    "Unfortunately there are currently no implementations available for `igraph`, and in fact, no implementations for Python that I know of."
   ]
  },
  {
   "cell_type": "markdown",
   "metadata": {},
   "source": [
    "## Social balance"
   ]
  },
  {
   "cell_type": "markdown",
   "metadata": {},
   "source": [
    "Social balance does not refer to some zen concept of balance or a state of peace. If anything, it actually has more to do with conflict than with peace. Social balance is a theory regarding the structure of *negative links*, i.e. links that have a negative connotation, such as hate or war. These can either be presented as a separate type of link, or as links having some continuous weight, which may also be negative."
   ]
  },
  {
   "cell_type": "markdown",
   "metadata": {},
   "source": [
    "# Complex networks"
   ]
  },
  {
   "cell_type": "markdown",
   "metadata": {},
   "source": [
    "The previous chapter focussed on concepts that originate more in the sociological tradition of network analysis. This chapter will cover aspects that originate in the so-called `complex networks` perspective. These are more recent development, and often have a motivation stemming from the exact sciences. Its outlook is generally more mathematical and statistical, rather than substantive. One challenge is to bridge these two somewhat separate worlds."
   ]
  },
  {
   "cell_type": "markdown",
   "metadata": {},
   "source": [
    "## Random graphs"
   ]
  },
  {
   "cell_type": "markdown",
   "metadata": {},
   "source": [
    "There are various motiviation for studying random graphs. The first is that it provide"
   ]
  },
  {
   "cell_type": "markdown",
   "metadata": {},
   "source": [
    "## Spreading & percolation"
   ]
  },
  {
   "cell_type": "markdown",
   "metadata": {},
   "source": [
    "## Community detection"
   ]
  }
 ],
 "metadata": {
  "kernelspec": {
   "display_name": "Python 2",
   "language": "python",
   "name": "python2"
  },
  "language_info": {
   "codemirror_mode": {
    "name": "ipython",
    "version": 2
   },
   "file_extension": ".py",
   "mimetype": "text/x-python",
   "name": "python",
   "nbconvert_exporter": "python",
   "pygments_lexer": "ipython2",
   "version": "2.7.12"
  }
 },
 "nbformat": 4,
 "nbformat_minor": 0
}
