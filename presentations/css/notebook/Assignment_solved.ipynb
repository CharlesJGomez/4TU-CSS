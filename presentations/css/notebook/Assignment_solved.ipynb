{
 "cells": [
  {
   "cell_type": "markdown",
   "metadata": {
    "deletable": true,
    "editable": true
   },
   "source": [
    "# Practical assignment"
   ]
  },
  {
   "cell_type": "markdown",
   "metadata": {
    "deletable": true,
    "editable": true
   },
   "source": [
    "In this assignment you will analyse user comments from the website [reddit.com](http://www.reddit.com). Reddit users can post content (e.g., a website, a question, news), which can be up- or downvoted. Posts with many upvotes tend to appear in the top of the category or at the frontpage of Reddit. The website is quite popular and has over half a billion monthly visitors. At times, appearing on the frontpage of Reddit generates so much traffic to the posted website, that it actually crashes.\n",
    "\n",
    "The community is organised in various subreddits, such as news, movies, music, et cetera. You will analyse user comments from the [politics subreddit](https://www.reddit.com/r/politics/). These user comments are either replies to the starting post, or replies to other users’ comments. The latter will be the basis for the communication network that you will construct here.\n",
    "\n",
    "First let us get started with the data\n"
   ]
  },
  {
   "cell_type": "markdown",
   "metadata": {
    "deletable": true,
    "editable": true
   },
   "source": [
    "## Data"
   ]
  },
  {
   "cell_type": "markdown",
   "metadata": {
    "deletable": true,
    "editable": true
   },
   "source": [
    "If you have not done so already, download all data from https://storage.googleapis.com/css-files/reddit_discussion_network_2016_10.csv. This file is 377MB, it may take some time to download. If you have trouble working with this dataset on your computer, please try the alternative: https://storage.googleapis.com/css-files/reddit_discussion_network_2015_02.csv, which is only 46MB."
   ]
  },
  {
   "cell_type": "markdown",
   "metadata": {
    "deletable": true,
    "editable": true
   },
   "source": [
    "### Importing libraries"
   ]
  },
  {
   "cell_type": "code",
   "execution_count": 1,
   "metadata": {
    "collapsed": false,
    "deletable": true,
    "editable": true
   },
   "outputs": [
    {
     "name": "stderr",
     "output_type": "stream",
     "text": [
      "/usr/local/lib/python2.7/dist-packages/IPython/html.py:14: ShimWarning: The `IPython.html` package has been deprecated. You should import from `notebook` instead. `IPython.html.widgets` has moved to `ipywidgets`.\n",
      "  \"`IPython.html.widgets` has moved to `ipywidgets`.\", ShimWarning)\n"
     ]
    }
   ],
   "source": [
    "import random\n",
    "\n",
    "# For network\n",
    "import igraph as ig\n",
    "import louvain\n",
    "\n",
    "# For NLP\n",
    "import nltk\n",
    "import gensim\n",
    "\n",
    "# For data handling\n",
    "import pandas as pd\n",
    "\n",
    "# For calculation\n",
    "import numpy as np\n",
    "import scipy\n",
    "\n",
    "# For plotting\n",
    "import matplotlib.pyplot as plt\n",
    "import seaborn as sns\n",
    "%matplotlib inline"
   ]
  },
  {
   "cell_type": "markdown",
   "metadata": {
    "deletable": true,
    "editable": true
   },
   "source": [
    "### Reading in data"
   ]
  },
  {
   "cell_type": "markdown",
   "metadata": {
    "deletable": true,
    "editable": true
   },
   "source": [
    "First read in Reddit data."
   ]
  },
  {
   "cell_type": "code",
   "execution_count": 2,
   "metadata": {
    "collapsed": true,
    "deletable": true,
    "editable": true
   },
   "outputs": [],
   "source": [
    "data_path = '../../../data/reddit/'\n",
    "file_name = 'reddit_discussion_network_2016_10.csv'\n",
    "comments_df = pd.read_csv(data_path + file_name)"
   ]
  },
  {
   "cell_type": "markdown",
   "metadata": {
    "deletable": true,
    "editable": true
   },
   "source": [
    "Which columns does this dataset have?"
   ]
  },
  {
   "cell_type": "code",
   "execution_count": 3,
   "metadata": {
    "collapsed": false,
    "deletable": true,
    "editable": true
   },
   "outputs": [
    {
     "data": {
      "text/plain": [
       "Index([u'comment', u'a_score', u'a_created_utc', u'a_retrieved_on',\n",
       "       u'comment_id', u'comment_reply_to_id', u'author_from',\n",
       "       u'author_reply_to'],\n",
       "      dtype='object')"
      ]
     },
     "execution_count": 3,
     "metadata": {},
     "output_type": "execute_result"
    }
   ],
   "source": [
    "comments_df.columns"
   ]
  },
  {
   "cell_type": "markdown",
   "metadata": {
    "deletable": true,
    "editable": true
   },
   "source": [
    "The first post:"
   ]
  },
  {
   "cell_type": "code",
   "execution_count": 4,
   "metadata": {
    "collapsed": false,
    "deletable": true,
    "editable": true
   },
   "outputs": [
    {
     "data": {
      "text/html": [
       "<div>\n",
       "<table border=\"1\" class=\"dataframe\">\n",
       "  <thead>\n",
       "    <tr style=\"text-align: right;\">\n",
       "      <th></th>\n",
       "      <th>comment</th>\n",
       "      <th>a_score</th>\n",
       "      <th>a_created_utc</th>\n",
       "      <th>a_retrieved_on</th>\n",
       "      <th>comment_id</th>\n",
       "      <th>comment_reply_to_id</th>\n",
       "      <th>author_from</th>\n",
       "      <th>author_reply_to</th>\n",
       "    </tr>\n",
       "  </thead>\n",
       "  <tbody>\n",
       "    <tr>\n",
       "      <th>0</th>\n",
       "      <td>You think these women were sitting out there m...</td>\n",
       "      <td>0</td>\n",
       "      <td>1476397749</td>\n",
       "      <td>1478583791</td>\n",
       "      <td>d8qwv4k</td>\n",
       "      <td>d8qwg9k</td>\n",
       "      <td>Schmingleberry</td>\n",
       "      <td>pm_me_your_cuck_pics</td>\n",
       "    </tr>\n",
       "  </tbody>\n",
       "</table>\n",
       "</div>"
      ],
      "text/plain": [
       "                                             comment  a_score  a_created_utc  \\\n",
       "0  You think these women were sitting out there m...        0     1476397749   \n",
       "\n",
       "   a_retrieved_on comment_id comment_reply_to_id     author_from  \\\n",
       "0      1478583791    d8qwv4k             d8qwg9k  Schmingleberry   \n",
       "\n",
       "        author_reply_to  \n",
       "0  pm_me_your_cuck_pics  "
      ]
     },
     "execution_count": 4,
     "metadata": {},
     "output_type": "execute_result"
    }
   ],
   "source": [
    "comments_df.head(1)"
   ]
  },
  {
   "cell_type": "markdown",
   "metadata": {
    "deletable": true,
    "editable": true
   },
   "source": [
    "To help speed up the analysis, we already computed topic and sentiment values for each post. You can read the data as follows:"
   ]
  },
  {
   "cell_type": "code",
   "execution_count": 5,
   "metadata": {
    "collapsed": true,
    "deletable": true,
    "editable": true
   },
   "outputs": [],
   "source": [
    "topic_sentiment_df = pd.read_csv(data_path + 'topic_sentiment_reddit.csv');"
   ]
  },
  {
   "cell_type": "markdown",
   "metadata": {
    "deletable": true,
    "editable": true
   },
   "source": [
    "For each post, the topic distribution is saved in t_0 to t_14 (15 topics)"
   ]
  },
  {
   "cell_type": "code",
   "execution_count": 6,
   "metadata": {
    "collapsed": false,
    "deletable": true,
    "editable": true
   },
   "outputs": [
    {
     "data": {
      "text/html": [
       "<div>\n",
       "<table border=\"1\" class=\"dataframe\">\n",
       "  <thead>\n",
       "    <tr style=\"text-align: right;\">\n",
       "      <th></th>\n",
       "      <th>comment_id</th>\n",
       "      <th>author_from</th>\n",
       "      <th>pos</th>\n",
       "      <th>neg</th>\n",
       "      <th>t_0</th>\n",
       "      <th>t_1</th>\n",
       "      <th>t_2</th>\n",
       "      <th>t_3</th>\n",
       "      <th>t_4</th>\n",
       "      <th>t_5</th>\n",
       "      <th>t_6</th>\n",
       "      <th>t_7</th>\n",
       "      <th>t_8</th>\n",
       "      <th>t_9</th>\n",
       "      <th>t_10</th>\n",
       "      <th>t_11</th>\n",
       "      <th>t_12</th>\n",
       "      <th>t_13</th>\n",
       "      <th>t_14</th>\n",
       "    </tr>\n",
       "  </thead>\n",
       "  <tbody>\n",
       "    <tr>\n",
       "      <th>0</th>\n",
       "      <td>d8qwv4k</td>\n",
       "      <td>Schmingleberry</td>\n",
       "      <td>0.0125</td>\n",
       "      <td>0.0</td>\n",
       "      <td>0.001667</td>\n",
       "      <td>0.150760</td>\n",
       "      <td>0.001667</td>\n",
       "      <td>0.001667</td>\n",
       "      <td>0.170236</td>\n",
       "      <td>0.001667</td>\n",
       "      <td>0.058648</td>\n",
       "      <td>0.001667</td>\n",
       "      <td>0.001667</td>\n",
       "      <td>0.146286</td>\n",
       "      <td>0.164797</td>\n",
       "      <td>0.001667</td>\n",
       "      <td>0.109014</td>\n",
       "      <td>0.061628</td>\n",
       "      <td>0.126965</td>\n",
       "    </tr>\n",
       "    <tr>\n",
       "      <th>1</th>\n",
       "      <td>d8p5x7o</td>\n",
       "      <td>socoamaretto</td>\n",
       "      <td>0.0000</td>\n",
       "      <td>0.0</td>\n",
       "      <td>0.016667</td>\n",
       "      <td>0.016667</td>\n",
       "      <td>0.016667</td>\n",
       "      <td>0.016667</td>\n",
       "      <td>0.016667</td>\n",
       "      <td>0.016667</td>\n",
       "      <td>0.016667</td>\n",
       "      <td>0.766667</td>\n",
       "      <td>0.016667</td>\n",
       "      <td>0.016667</td>\n",
       "      <td>0.016667</td>\n",
       "      <td>0.016667</td>\n",
       "      <td>0.016667</td>\n",
       "      <td>0.016667</td>\n",
       "      <td>0.016667</td>\n",
       "    </tr>\n",
       "    <tr>\n",
       "      <th>2</th>\n",
       "      <td>d9dpj9r</td>\n",
       "      <td>allisslothed</td>\n",
       "      <td>0.0000</td>\n",
       "      <td>0.0</td>\n",
       "      <td>0.033333</td>\n",
       "      <td>0.033333</td>\n",
       "      <td>0.033333</td>\n",
       "      <td>0.033333</td>\n",
       "      <td>0.033333</td>\n",
       "      <td>0.033333</td>\n",
       "      <td>0.033333</td>\n",
       "      <td>0.033333</td>\n",
       "      <td>0.033333</td>\n",
       "      <td>0.033333</td>\n",
       "      <td>0.033333</td>\n",
       "      <td>0.033333</td>\n",
       "      <td>0.533333</td>\n",
       "      <td>0.033333</td>\n",
       "      <td>0.033334</td>\n",
       "    </tr>\n",
       "    <tr>\n",
       "      <th>3</th>\n",
       "      <td>d8lh0lw</td>\n",
       "      <td>shaking_head</td>\n",
       "      <td>0.0250</td>\n",
       "      <td>0.0</td>\n",
       "      <td>0.002899</td>\n",
       "      <td>0.002899</td>\n",
       "      <td>0.046468</td>\n",
       "      <td>0.448935</td>\n",
       "      <td>0.131211</td>\n",
       "      <td>0.002899</td>\n",
       "      <td>0.002899</td>\n",
       "      <td>0.156079</td>\n",
       "      <td>0.002899</td>\n",
       "      <td>0.072449</td>\n",
       "      <td>0.002899</td>\n",
       "      <td>0.002899</td>\n",
       "      <td>0.118771</td>\n",
       "      <td>0.002899</td>\n",
       "      <td>0.002899</td>\n",
       "    </tr>\n",
       "    <tr>\n",
       "      <th>4</th>\n",
       "      <td>d8cu7q1</td>\n",
       "      <td>InFearn0</td>\n",
       "      <td>0.0000</td>\n",
       "      <td>0.0</td>\n",
       "      <td>0.338153</td>\n",
       "      <td>0.001515</td>\n",
       "      <td>0.001515</td>\n",
       "      <td>0.001515</td>\n",
       "      <td>0.060315</td>\n",
       "      <td>0.038145</td>\n",
       "      <td>0.001515</td>\n",
       "      <td>0.001515</td>\n",
       "      <td>0.032549</td>\n",
       "      <td>0.001515</td>\n",
       "      <td>0.112769</td>\n",
       "      <td>0.152212</td>\n",
       "      <td>0.060566</td>\n",
       "      <td>0.194684</td>\n",
       "      <td>0.001515</td>\n",
       "    </tr>\n",
       "  </tbody>\n",
       "</table>\n",
       "</div>"
      ],
      "text/plain": [
       "  comment_id     author_from     pos  neg       t_0       t_1       t_2  \\\n",
       "0    d8qwv4k  Schmingleberry  0.0125  0.0  0.001667  0.150760  0.001667   \n",
       "1    d8p5x7o    socoamaretto  0.0000  0.0  0.016667  0.016667  0.016667   \n",
       "2    d9dpj9r    allisslothed  0.0000  0.0  0.033333  0.033333  0.033333   \n",
       "3    d8lh0lw    shaking_head  0.0250  0.0  0.002899  0.002899  0.046468   \n",
       "4    d8cu7q1        InFearn0  0.0000  0.0  0.338153  0.001515  0.001515   \n",
       "\n",
       "        t_3       t_4       t_5       t_6       t_7       t_8       t_9  \\\n",
       "0  0.001667  0.170236  0.001667  0.058648  0.001667  0.001667  0.146286   \n",
       "1  0.016667  0.016667  0.016667  0.016667  0.766667  0.016667  0.016667   \n",
       "2  0.033333  0.033333  0.033333  0.033333  0.033333  0.033333  0.033333   \n",
       "3  0.448935  0.131211  0.002899  0.002899  0.156079  0.002899  0.072449   \n",
       "4  0.001515  0.060315  0.038145  0.001515  0.001515  0.032549  0.001515   \n",
       "\n",
       "       t_10      t_11      t_12      t_13      t_14  \n",
       "0  0.164797  0.001667  0.109014  0.061628  0.126965  \n",
       "1  0.016667  0.016667  0.016667  0.016667  0.016667  \n",
       "2  0.033333  0.033333  0.533333  0.033333  0.033334  \n",
       "3  0.002899  0.002899  0.118771  0.002899  0.002899  \n",
       "4  0.112769  0.152212  0.060566  0.194684  0.001515  "
      ]
     },
     "execution_count": 6,
     "metadata": {},
     "output_type": "execute_result"
    }
   ],
   "source": [
    "topic_sentiment_df.head(5)"
   ]
  },
  {
   "cell_type": "markdown",
   "metadata": {
    "deletable": true,
    "editable": true
   },
   "source": [
    "We then link this back to the original comments as follows:"
   ]
  },
  {
   "cell_type": "code",
   "execution_count": 7,
   "metadata": {
    "collapsed": true,
    "deletable": true,
    "editable": true
   },
   "outputs": [],
   "source": [
    "comments_enriched_df = comments_df.merge(topic_sentiment_df)"
   ]
  },
  {
   "cell_type": "markdown",
   "metadata": {
    "deletable": true,
    "editable": true
   },
   "source": [
    "We can now delete the `topic_sentiment_df` variable to save some memory."
   ]
  },
  {
   "cell_type": "code",
   "execution_count": 8,
   "metadata": {
    "collapsed": true,
    "deletable": true,
    "editable": true
   },
   "outputs": [],
   "source": [
    "del topic_sentiment_df"
   ]
  },
  {
   "cell_type": "markdown",
   "metadata": {
    "deletable": true,
    "editable": true
   },
   "source": [
    "Let us calculate the interaction between all users."
   ]
  },
  {
   "cell_type": "code",
   "execution_count": 9,
   "metadata": {
    "collapsed": true,
    "deletable": true,
    "editable": true
   },
   "outputs": [],
   "source": [
    "grp_df = comments_enriched_df.groupby(['author_from', 'author_reply_to'])\n",
    "interaction_df = grp_df.mean()\n",
    "interaction_df['count'] = grp_df.size()"
   ]
  },
  {
   "cell_type": "markdown",
   "metadata": {
    "deletable": true,
    "editable": true
   },
   "source": [
    "This only keeps the numerical columns (and throws away the text). We can now use this to build the network."
   ]
  },
  {
   "cell_type": "code",
   "execution_count": 10,
   "metadata": {
    "collapsed": true,
    "deletable": true,
    "editable": true
   },
   "outputs": [],
   "source": [
    "G = ig.Graph.TupleList(\n",
    "        edges=interaction_df.reset_index().values,\n",
    "        edge_attrs=interaction_df.columns,\n",
    "        directed=True)"
   ]
  },
  {
   "cell_type": "markdown",
   "metadata": {
    "deletable": true,
    "editable": true
   },
   "source": [
    "There are now four smaller subassignments which we will work on. You can choose any single one to work on. Hints for doing some of the analysis are provided after the description of the subassignments. Most of the techniques involved should already be explained during the lectures, but these hints provide some more explicit help.\n",
    "\n"
   ]
  },
  {
   "cell_type": "markdown",
   "metadata": {
    "deletable": true,
    "editable": true
   },
   "source": [
    "# Topics and centrality"
   ]
  },
  {
   "cell_type": "markdown",
   "metadata": {
    "deletable": true,
    "editable": true
   },
   "source": [
    "Users that are central tend to interact with lots of different (central) users. We could either expect that users become more central if they secure a position of authority in a single topic. In that case, everybody interacts with the user because he is authoritative in this subject. Alternatively, somebody can be more central because he is active in many different topics. Finally, somebody may simply be more central because he is active himself, and every comment is likely to get a reply.\n",
    "\n",
    "Techniques necessary\n",
    "- Topic detection\n",
    "- Centrality"
   ]
  },
  {
   "cell_type": "markdown",
   "metadata": {
    "deletable": true,
    "editable": true
   },
   "source": [
    "## Topic modelling"
   ]
  },
  {
   "cell_type": "markdown",
   "metadata": {
    "deletable": true,
    "editable": true
   },
   "source": [
    "We now calculate the average values for each user as follows:"
   ]
  },
  {
   "cell_type": "code",
   "execution_count": 11,
   "metadata": {
    "collapsed": true,
    "deletable": true,
    "editable": true
   },
   "outputs": [],
   "source": [
    "topic_sentiment_user_df = comments_enriched_df.groupby('author_from').mean()"
   ]
  },
  {
   "cell_type": "code",
   "execution_count": 12,
   "metadata": {
    "collapsed": false,
    "deletable": true,
    "editable": true
   },
   "outputs": [
    {
     "data": {
      "text/html": [
       "<div>\n",
       "<table border=\"1\" class=\"dataframe\">\n",
       "  <thead>\n",
       "    <tr style=\"text-align: right;\">\n",
       "      <th></th>\n",
       "      <th>a_score</th>\n",
       "      <th>a_created_utc</th>\n",
       "      <th>a_retrieved_on</th>\n",
       "      <th>pos</th>\n",
       "      <th>neg</th>\n",
       "      <th>t_0</th>\n",
       "      <th>t_1</th>\n",
       "      <th>t_2</th>\n",
       "      <th>t_3</th>\n",
       "      <th>t_4</th>\n",
       "      <th>t_5</th>\n",
       "      <th>t_6</th>\n",
       "      <th>t_7</th>\n",
       "      <th>t_8</th>\n",
       "      <th>t_9</th>\n",
       "      <th>t_10</th>\n",
       "      <th>t_11</th>\n",
       "      <th>t_12</th>\n",
       "      <th>t_13</th>\n",
       "      <th>t_14</th>\n",
       "    </tr>\n",
       "    <tr>\n",
       "      <th>author_from</th>\n",
       "      <th></th>\n",
       "      <th></th>\n",
       "      <th></th>\n",
       "      <th></th>\n",
       "      <th></th>\n",
       "      <th></th>\n",
       "      <th></th>\n",
       "      <th></th>\n",
       "      <th></th>\n",
       "      <th></th>\n",
       "      <th></th>\n",
       "      <th></th>\n",
       "      <th></th>\n",
       "      <th></th>\n",
       "      <th></th>\n",
       "      <th></th>\n",
       "      <th></th>\n",
       "      <th></th>\n",
       "      <th></th>\n",
       "      <th></th>\n",
       "    </tr>\n",
       "  </thead>\n",
       "  <tbody>\n",
       "    <tr>\n",
       "      <th>--------Link--------</th>\n",
       "      <td>5.000000</td>\n",
       "      <td>1.475547e+09</td>\n",
       "      <td>1.478342e+09</td>\n",
       "      <td>0.000000</td>\n",
       "      <td>0.062500</td>\n",
       "      <td>0.262674</td>\n",
       "      <td>0.003509</td>\n",
       "      <td>0.003509</td>\n",
       "      <td>0.003509</td>\n",
       "      <td>0.003509</td>\n",
       "      <td>0.056574</td>\n",
       "      <td>0.069515</td>\n",
       "      <td>0.520009</td>\n",
       "      <td>0.003509</td>\n",
       "      <td>0.056140</td>\n",
       "      <td>0.003509</td>\n",
       "      <td>0.003509</td>\n",
       "      <td>0.003509</td>\n",
       "      <td>0.003509</td>\n",
       "      <td>0.003509</td>\n",
       "    </tr>\n",
       "    <tr>\n",
       "      <th>------________</th>\n",
       "      <td>-0.071429</td>\n",
       "      <td>1.475973e+09</td>\n",
       "      <td>1.478460e+09</td>\n",
       "      <td>0.017857</td>\n",
       "      <td>0.043675</td>\n",
       "      <td>0.017526</td>\n",
       "      <td>0.017526</td>\n",
       "      <td>0.039061</td>\n",
       "      <td>0.096752</td>\n",
       "      <td>0.074879</td>\n",
       "      <td>0.029013</td>\n",
       "      <td>0.190172</td>\n",
       "      <td>0.129516</td>\n",
       "      <td>0.017526</td>\n",
       "      <td>0.035383</td>\n",
       "      <td>0.050420</td>\n",
       "      <td>0.098166</td>\n",
       "      <td>0.151150</td>\n",
       "      <td>0.035383</td>\n",
       "      <td>0.017526</td>\n",
       "    </tr>\n",
       "    <tr>\n",
       "      <th>-----iMartijn-----</th>\n",
       "      <td>1.000000</td>\n",
       "      <td>1.477506e+09</td>\n",
       "      <td>1.478901e+09</td>\n",
       "      <td>0.002000</td>\n",
       "      <td>0.017867</td>\n",
       "      <td>0.018383</td>\n",
       "      <td>0.074263</td>\n",
       "      <td>0.005108</td>\n",
       "      <td>0.230240</td>\n",
       "      <td>0.116360</td>\n",
       "      <td>0.039299</td>\n",
       "      <td>0.017694</td>\n",
       "      <td>0.054546</td>\n",
       "      <td>0.005108</td>\n",
       "      <td>0.005108</td>\n",
       "      <td>0.247091</td>\n",
       "      <td>0.053790</td>\n",
       "      <td>0.102172</td>\n",
       "      <td>0.020444</td>\n",
       "      <td>0.010394</td>\n",
       "    </tr>\n",
       "    <tr>\n",
       "      <th>---CAISSON---</th>\n",
       "      <td>12.500000</td>\n",
       "      <td>1.477036e+09</td>\n",
       "      <td>1.478766e+09</td>\n",
       "      <td>0.000000</td>\n",
       "      <td>0.025000</td>\n",
       "      <td>0.009697</td>\n",
       "      <td>0.009697</td>\n",
       "      <td>0.109697</td>\n",
       "      <td>0.009697</td>\n",
       "      <td>0.009697</td>\n",
       "      <td>0.055152</td>\n",
       "      <td>0.009697</td>\n",
       "      <td>0.061478</td>\n",
       "      <td>0.009697</td>\n",
       "      <td>0.109697</td>\n",
       "      <td>0.367007</td>\n",
       "      <td>0.209697</td>\n",
       "      <td>0.009697</td>\n",
       "      <td>0.009697</td>\n",
       "      <td>0.009697</td>\n",
       "    </tr>\n",
       "    <tr>\n",
       "      <th>---DONTDIEWEMULTIPLY</th>\n",
       "      <td>6.370370</td>\n",
       "      <td>1.477943e+09</td>\n",
       "      <td>1.479020e+09</td>\n",
       "      <td>0.005842</td>\n",
       "      <td>0.007025</td>\n",
       "      <td>0.022242</td>\n",
       "      <td>0.154403</td>\n",
       "      <td>0.056291</td>\n",
       "      <td>0.104365</td>\n",
       "      <td>0.082621</td>\n",
       "      <td>0.054479</td>\n",
       "      <td>0.043127</td>\n",
       "      <td>0.086735</td>\n",
       "      <td>0.070458</td>\n",
       "      <td>0.050695</td>\n",
       "      <td>0.081356</td>\n",
       "      <td>0.032482</td>\n",
       "      <td>0.089906</td>\n",
       "      <td>0.057650</td>\n",
       "      <td>0.013191</td>\n",
       "    </tr>\n",
       "  </tbody>\n",
       "</table>\n",
       "</div>"
      ],
      "text/plain": [
       "                        a_score  a_created_utc  a_retrieved_on       pos  \\\n",
       "author_from                                                                \n",
       "--------Link--------   5.000000   1.475547e+09    1.478342e+09  0.000000   \n",
       "------________        -0.071429   1.475973e+09    1.478460e+09  0.017857   \n",
       "-----iMartijn-----     1.000000   1.477506e+09    1.478901e+09  0.002000   \n",
       "---CAISSON---         12.500000   1.477036e+09    1.478766e+09  0.000000   \n",
       "---DONTDIEWEMULTIPLY   6.370370   1.477943e+09    1.479020e+09  0.005842   \n",
       "\n",
       "                           neg       t_0       t_1       t_2       t_3  \\\n",
       "author_from                                                              \n",
       "--------Link--------  0.062500  0.262674  0.003509  0.003509  0.003509   \n",
       "------________        0.043675  0.017526  0.017526  0.039061  0.096752   \n",
       "-----iMartijn-----    0.017867  0.018383  0.074263  0.005108  0.230240   \n",
       "---CAISSON---         0.025000  0.009697  0.009697  0.109697  0.009697   \n",
       "---DONTDIEWEMULTIPLY  0.007025  0.022242  0.154403  0.056291  0.104365   \n",
       "\n",
       "                           t_4       t_5       t_6       t_7       t_8  \\\n",
       "author_from                                                              \n",
       "--------Link--------  0.003509  0.056574  0.069515  0.520009  0.003509   \n",
       "------________        0.074879  0.029013  0.190172  0.129516  0.017526   \n",
       "-----iMartijn-----    0.116360  0.039299  0.017694  0.054546  0.005108   \n",
       "---CAISSON---         0.009697  0.055152  0.009697  0.061478  0.009697   \n",
       "---DONTDIEWEMULTIPLY  0.082621  0.054479  0.043127  0.086735  0.070458   \n",
       "\n",
       "                           t_9      t_10      t_11      t_12      t_13  \\\n",
       "author_from                                                              \n",
       "--------Link--------  0.056140  0.003509  0.003509  0.003509  0.003509   \n",
       "------________        0.035383  0.050420  0.098166  0.151150  0.035383   \n",
       "-----iMartijn-----    0.005108  0.247091  0.053790  0.102172  0.020444   \n",
       "---CAISSON---         0.109697  0.367007  0.209697  0.009697  0.009697   \n",
       "---DONTDIEWEMULTIPLY  0.050695  0.081356  0.032482  0.089906  0.057650   \n",
       "\n",
       "                          t_14  \n",
       "author_from                     \n",
       "--------Link--------  0.003509  \n",
       "------________        0.017526  \n",
       "-----iMartijn-----    0.010394  \n",
       "---CAISSON---         0.009697  \n",
       "---DONTDIEWEMULTIPLY  0.013191  "
      ]
     },
     "execution_count": 12,
     "metadata": {},
     "output_type": "execute_result"
    }
   ],
   "source": [
    "topic_sentiment_user_df.head(5)"
   ]
  },
  {
   "cell_type": "markdown",
   "metadata": {
    "deletable": true,
    "editable": true
   },
   "source": [
    "You can the values for a particular user:"
   ]
  },
  {
   "cell_type": "code",
   "execution_count": 13,
   "metadata": {
    "collapsed": false,
    "deletable": true,
    "editable": true
   },
   "outputs": [
    {
     "data": {
      "text/plain": [
       "a_score           1.250000e+01\n",
       "a_created_utc     1.477036e+09\n",
       "a_retrieved_on    1.478766e+09\n",
       "pos               0.000000e+00\n",
       "neg               2.500000e-02\n",
       "t_0               9.696986e-03\n",
       "t_1               9.696972e-03\n",
       "t_2               1.096970e-01\n",
       "t_3               9.696971e-03\n",
       "t_4               9.696970e-03\n",
       "t_5               5.515152e-02\n",
       "t_6               9.696970e-03\n",
       "t_7               6.147798e-02\n",
       "t_8               9.696970e-03\n",
       "t_9               1.096970e-01\n",
       "t_10              3.670069e-01\n",
       "t_11              2.096969e-01\n",
       "t_12              9.696995e-03\n",
       "t_13              9.696974e-03\n",
       "t_14              9.696970e-03\n",
       "Name: ---CAISSON---, dtype: float64"
      ]
     },
     "execution_count": 13,
     "metadata": {},
     "output_type": "execute_result"
    }
   ],
   "source": [
    "topic_sentiment_user_df.ix['---CAISSON---']"
   ]
  },
  {
   "cell_type": "markdown",
   "metadata": {
    "deletable": true,
    "editable": true
   },
   "source": [
    "You can easily grab only the topics"
   ]
  },
  {
   "cell_type": "code",
   "execution_count": 14,
   "metadata": {
    "collapsed": false,
    "deletable": true,
    "editable": true
   },
   "outputs": [
    {
     "data": {
      "text/html": [
       "<div>\n",
       "<table border=\"1\" class=\"dataframe\">\n",
       "  <thead>\n",
       "    <tr style=\"text-align: right;\">\n",
       "      <th></th>\n",
       "      <th>t_0</th>\n",
       "      <th>t_1</th>\n",
       "      <th>t_2</th>\n",
       "      <th>t_3</th>\n",
       "      <th>t_4</th>\n",
       "      <th>t_5</th>\n",
       "      <th>t_6</th>\n",
       "      <th>t_7</th>\n",
       "      <th>t_8</th>\n",
       "      <th>t_9</th>\n",
       "      <th>t_10</th>\n",
       "      <th>t_11</th>\n",
       "      <th>t_12</th>\n",
       "      <th>t_13</th>\n",
       "      <th>t_14</th>\n",
       "    </tr>\n",
       "    <tr>\n",
       "      <th>author_from</th>\n",
       "      <th></th>\n",
       "      <th></th>\n",
       "      <th></th>\n",
       "      <th></th>\n",
       "      <th></th>\n",
       "      <th></th>\n",
       "      <th></th>\n",
       "      <th></th>\n",
       "      <th></th>\n",
       "      <th></th>\n",
       "      <th></th>\n",
       "      <th></th>\n",
       "      <th></th>\n",
       "      <th></th>\n",
       "      <th></th>\n",
       "    </tr>\n",
       "  </thead>\n",
       "  <tbody>\n",
       "    <tr>\n",
       "      <th>--------Link--------</th>\n",
       "      <td>0.262674</td>\n",
       "      <td>0.003509</td>\n",
       "      <td>0.003509</td>\n",
       "      <td>0.003509</td>\n",
       "      <td>0.003509</td>\n",
       "      <td>0.056574</td>\n",
       "      <td>0.069515</td>\n",
       "      <td>0.520009</td>\n",
       "      <td>0.003509</td>\n",
       "      <td>0.056140</td>\n",
       "      <td>0.003509</td>\n",
       "      <td>0.003509</td>\n",
       "      <td>0.003509</td>\n",
       "      <td>0.003509</td>\n",
       "      <td>0.003509</td>\n",
       "    </tr>\n",
       "    <tr>\n",
       "      <th>------________</th>\n",
       "      <td>0.017526</td>\n",
       "      <td>0.017526</td>\n",
       "      <td>0.039061</td>\n",
       "      <td>0.096752</td>\n",
       "      <td>0.074879</td>\n",
       "      <td>0.029013</td>\n",
       "      <td>0.190172</td>\n",
       "      <td>0.129516</td>\n",
       "      <td>0.017526</td>\n",
       "      <td>0.035383</td>\n",
       "      <td>0.050420</td>\n",
       "      <td>0.098166</td>\n",
       "      <td>0.151150</td>\n",
       "      <td>0.035383</td>\n",
       "      <td>0.017526</td>\n",
       "    </tr>\n",
       "    <tr>\n",
       "      <th>-----iMartijn-----</th>\n",
       "      <td>0.018383</td>\n",
       "      <td>0.074263</td>\n",
       "      <td>0.005108</td>\n",
       "      <td>0.230240</td>\n",
       "      <td>0.116360</td>\n",
       "      <td>0.039299</td>\n",
       "      <td>0.017694</td>\n",
       "      <td>0.054546</td>\n",
       "      <td>0.005108</td>\n",
       "      <td>0.005108</td>\n",
       "      <td>0.247091</td>\n",
       "      <td>0.053790</td>\n",
       "      <td>0.102172</td>\n",
       "      <td>0.020444</td>\n",
       "      <td>0.010394</td>\n",
       "    </tr>\n",
       "    <tr>\n",
       "      <th>---CAISSON---</th>\n",
       "      <td>0.009697</td>\n",
       "      <td>0.009697</td>\n",
       "      <td>0.109697</td>\n",
       "      <td>0.009697</td>\n",
       "      <td>0.009697</td>\n",
       "      <td>0.055152</td>\n",
       "      <td>0.009697</td>\n",
       "      <td>0.061478</td>\n",
       "      <td>0.009697</td>\n",
       "      <td>0.109697</td>\n",
       "      <td>0.367007</td>\n",
       "      <td>0.209697</td>\n",
       "      <td>0.009697</td>\n",
       "      <td>0.009697</td>\n",
       "      <td>0.009697</td>\n",
       "    </tr>\n",
       "    <tr>\n",
       "      <th>---DONTDIEWEMULTIPLY</th>\n",
       "      <td>0.022242</td>\n",
       "      <td>0.154403</td>\n",
       "      <td>0.056291</td>\n",
       "      <td>0.104365</td>\n",
       "      <td>0.082621</td>\n",
       "      <td>0.054479</td>\n",
       "      <td>0.043127</td>\n",
       "      <td>0.086735</td>\n",
       "      <td>0.070458</td>\n",
       "      <td>0.050695</td>\n",
       "      <td>0.081356</td>\n",
       "      <td>0.032482</td>\n",
       "      <td>0.089906</td>\n",
       "      <td>0.057650</td>\n",
       "      <td>0.013191</td>\n",
       "    </tr>\n",
       "  </tbody>\n",
       "</table>\n",
       "</div>"
      ],
      "text/plain": [
       "                           t_0       t_1       t_2       t_3       t_4  \\\n",
       "author_from                                                              \n",
       "--------Link--------  0.262674  0.003509  0.003509  0.003509  0.003509   \n",
       "------________        0.017526  0.017526  0.039061  0.096752  0.074879   \n",
       "-----iMartijn-----    0.018383  0.074263  0.005108  0.230240  0.116360   \n",
       "---CAISSON---         0.009697  0.009697  0.109697  0.009697  0.009697   \n",
       "---DONTDIEWEMULTIPLY  0.022242  0.154403  0.056291  0.104365  0.082621   \n",
       "\n",
       "                           t_5       t_6       t_7       t_8       t_9  \\\n",
       "author_from                                                              \n",
       "--------Link--------  0.056574  0.069515  0.520009  0.003509  0.056140   \n",
       "------________        0.029013  0.190172  0.129516  0.017526  0.035383   \n",
       "-----iMartijn-----    0.039299  0.017694  0.054546  0.005108  0.005108   \n",
       "---CAISSON---         0.055152  0.009697  0.061478  0.009697  0.109697   \n",
       "---DONTDIEWEMULTIPLY  0.054479  0.043127  0.086735  0.070458  0.050695   \n",
       "\n",
       "                          t_10      t_11      t_12      t_13      t_14  \n",
       "author_from                                                             \n",
       "--------Link--------  0.003509  0.003509  0.003509  0.003509  0.003509  \n",
       "------________        0.050420  0.098166  0.151150  0.035383  0.017526  \n",
       "-----iMartijn-----    0.247091  0.053790  0.102172  0.020444  0.010394  \n",
       "---CAISSON---         0.367007  0.209697  0.009697  0.009697  0.009697  \n",
       "---DONTDIEWEMULTIPLY  0.081356  0.032482  0.089906  0.057650  0.013191  "
      ]
     },
     "execution_count": 14,
     "metadata": {},
     "output_type": "execute_result"
    }
   ],
   "source": [
    "topic_sentiment_user_df.ix[:,'t_0':'t_14'].head(5)"
   ]
  },
  {
   "cell_type": "markdown",
   "metadata": {
    "deletable": true,
    "editable": true
   },
   "source": [
    "You can also combine both the selection of users and of topics"
   ]
  },
  {
   "cell_type": "code",
   "execution_count": 15,
   "metadata": {
    "collapsed": false,
    "deletable": true,
    "editable": true
   },
   "outputs": [
    {
     "data": {
      "text/plain": [
       "t_0     0.009697\n",
       "t_1     0.009697\n",
       "t_2     0.109697\n",
       "t_3     0.009697\n",
       "t_4     0.009697\n",
       "t_5     0.055152\n",
       "t_6     0.009697\n",
       "t_7     0.061478\n",
       "t_8     0.009697\n",
       "t_9     0.109697\n",
       "t_10    0.367007\n",
       "t_11    0.209697\n",
       "t_12    0.009697\n",
       "t_13    0.009697\n",
       "t_14    0.009697\n",
       "Name: ---CAISSON---, dtype: float64"
      ]
     },
     "execution_count": 15,
     "metadata": {},
     "output_type": "execute_result"
    }
   ],
   "source": [
    "topic_sentiment_user_df.ix['---CAISSON---','t_0':'t_14']"
   ]
  },
  {
   "cell_type": "markdown",
   "metadata": {
    "deletable": true,
    "editable": true
   },
   "source": [
    "### Entropy"
   ]
  },
  {
   "cell_type": "markdown",
   "metadata": {
    "deletable": true,
    "editable": true
   },
   "source": [
    "One way to calculate whether a user is posting mostly about one topic, or is the user is active in multiple topics is using **entropy** (https://en.wikipedia.org/wiki/Entropy_(information_theory))"
   ]
  },
  {
   "cell_type": "markdown",
   "metadata": {
    "deletable": true,
    "editable": true
   },
   "source": [
    "This is an example where we have two topics. Because the probability of both topics is equal (0.5), the entropy is high."
   ]
  },
  {
   "cell_type": "code",
   "execution_count": 16,
   "metadata": {
    "collapsed": false,
    "deletable": true,
    "editable": true
   },
   "outputs": [
    {
     "data": {
      "text/plain": [
       "0.69314718055994529"
      ]
     },
     "execution_count": 16,
     "metadata": {},
     "output_type": "execute_result"
    }
   ],
   "source": [
    "scipy.stats.entropy([0.5, 0.5])"
   ]
  },
  {
   "cell_type": "markdown",
   "metadata": {
    "deletable": true,
    "editable": true
   },
   "source": [
    "Because in the following example all the probability is concentrated on one topic, the entropy is low (0)."
   ]
  },
  {
   "cell_type": "code",
   "execution_count": 17,
   "metadata": {
    "collapsed": false,
    "deletable": true,
    "editable": true
   },
   "outputs": [
    {
     "data": {
      "text/plain": [
       "0.0"
      ]
     },
     "execution_count": 17,
     "metadata": {},
     "output_type": "execute_result"
    }
   ],
   "source": [
    "scipy.stats.entropy([1, 0])"
   ]
  },
  {
   "cell_type": "markdown",
   "metadata": {
    "deletable": true,
    "editable": true
   },
   "source": [
    "The overall entropy for all users can be calculated easily:"
   ]
  },
  {
   "cell_type": "code",
   "execution_count": 18,
   "metadata": {
    "collapsed": true,
    "deletable": true,
    "editable": true
   },
   "outputs": [],
   "source": [
    "user_topic_entropy = topic_sentiment_user_df.ix[:,'t_0':'t_14'].apply(scipy.stats.entropy, axis=1)"
   ]
  },
  {
   "cell_type": "markdown",
   "metadata": {
    "deletable": true,
    "editable": true
   },
   "source": [
    "## Centrality"
   ]
  },
  {
   "cell_type": "markdown",
   "metadata": {
    "deletable": true,
    "editable": true
   },
   "source": [
    "There are various possible centralities. Betweenness in in too slow to calculate for this network, so we will only focus on eigenvector centrality, pagerank and (in- or out-)degree. You can try any one of them, just keep in mind when interpreting further results. You can get the centralities by running any one of the following:"
   ]
  },
  {
   "cell_type": "code",
   "execution_count": 19,
   "metadata": {
    "collapsed": false,
    "deletable": true,
    "editable": true
   },
   "outputs": [
    {
     "name": "stderr",
     "output_type": "stream",
     "text": [
      "/usr/local/lib/python2.7/dist-packages/ipykernel/__main__.py:2: RuntimeWarning: Weighted directed graph in eigenvector centrality at centrality.c:362\n",
      "  from ipykernel import kernelapp as app\n"
     ]
    }
   ],
   "source": [
    "G.es['weight'] = G.es['count']\n",
    "G.vs['eigenvector_centrality'] = G.eigenvector_centrality(weights='weight')\n",
    "G.vs['pagerank'] = G.pagerank(weights='weight')\n",
    "G.vs['indegree'] = G.degree(mode=ig.IN)\n",
    "G.vs['indegree_weighted'] = G.strength(mode=ig.IN, weights='weight')\n",
    "G.vs['outdegree_weighted'] = G.strength(mode=ig.OUT, weights='weight')"
   ]
  },
  {
   "cell_type": "markdown",
   "metadata": {
    "deletable": true,
    "editable": true
   },
   "source": [
    "We can easily put all attributes from the graph in a pandas dataframe."
   ]
  },
  {
   "cell_type": "code",
   "execution_count": 20,
   "metadata": {
    "collapsed": true,
    "deletable": true,
    "editable": true
   },
   "outputs": [],
   "source": [
    "user_df = pd.DataFrame({attr: G.vs[attr] for attr in G.vertex_attributes()}).set_index('name')"
   ]
  },
  {
   "cell_type": "markdown",
   "metadata": {
    "deletable": true,
    "editable": true
   },
   "source": [
    "Now let us also calculate the topic entropy for each user."
   ]
  },
  {
   "cell_type": "code",
   "execution_count": 21,
   "metadata": {
    "collapsed": true,
    "deletable": true,
    "editable": true
   },
   "outputs": [],
   "source": [
    "user_df['topic_entropy'] = user_topic_entropy"
   ]
  },
  {
   "cell_type": "markdown",
   "metadata": {
    "deletable": true,
    "editable": true
   },
   "source": [
    "Note that there is not always information for all users, because not all users have written any comments themselves in this period. For example, BigDaddy2014 was replied 187 times, but he did not write a single comment himself during this period."
   ]
  },
  {
   "cell_type": "code",
   "execution_count": 22,
   "metadata": {
    "collapsed": false,
    "deletable": true,
    "editable": true
   },
   "outputs": [
    {
     "data": {
      "text/plain": [
       "eigenvector_centrality      0.004248\n",
       "indegree                  186.000000\n",
       "indegree_weighted         187.000000\n",
       "outdegree_weighted          0.000000\n",
       "pagerank                    0.000106\n",
       "topic_entropy                    NaN\n",
       "Name: BigDaddy2014, dtype: float64"
      ]
     },
     "execution_count": 22,
     "metadata": {},
     "output_type": "execute_result"
    }
   ],
   "source": [
    "user_df.ix['BigDaddy2014',:]"
   ]
  },
  {
   "cell_type": "markdown",
   "metadata": {
    "deletable": true,
    "editable": true
   },
   "source": [
    "For this particular assignment, it might be useful to filter users. If you include *all* users, then users who have only posted a few posts might have a topic distribution skewed towards a few topics, just because they haven't been active much. We can plot the results for users that have posted at least 50 comments."
   ]
  },
  {
   "cell_type": "code",
   "execution_count": 23,
   "metadata": {
    "collapsed": false,
    "deletable": true,
    "editable": true
   },
   "outputs": [
    {
     "data": {
      "text/plain": [
       "<matplotlib.axes._subplots.AxesSubplot at 0x7fe3d070b610>"
      ]
     },
     "execution_count": 23,
     "metadata": {},
     "output_type": "execute_result"
    },
    {
     "data": {
      "image/png": "[encoded data removed]",
      "text/plain": [
       "<matplotlib.figure.Figure at 0x7fe3d1b39490>"
      ]
     },
     "metadata": {},
     "output_type": "display_data"
    }
   ],
   "source": [
    "user_df[user_df['outdegree_weighted'] > 50].plot('eigenvector_centrality', 'topic_entropy', kind='scatter')"
   ]
  },
  {
   "cell_type": "code",
   "execution_count": 24,
   "metadata": {
    "collapsed": false,
    "deletable": true,
    "editable": true
   },
   "outputs": [
    {
     "data": {
      "text/html": [
       "<div>\n",
       "<table border=\"1\" class=\"dataframe\">\n",
       "  <thead>\n",
       "    <tr style=\"text-align: right;\">\n",
       "      <th></th>\n",
       "      <th>eigenvector_centrality</th>\n",
       "      <th>indegree</th>\n",
       "      <th>indegree_weighted</th>\n",
       "      <th>outdegree_weighted</th>\n",
       "      <th>pagerank</th>\n",
       "      <th>topic_entropy</th>\n",
       "    </tr>\n",
       "  </thead>\n",
       "  <tbody>\n",
       "    <tr>\n",
       "      <th>eigenvector_centrality</th>\n",
       "      <td>1.000000</td>\n",
       "      <td>0.698863</td>\n",
       "      <td>0.810727</td>\n",
       "      <td>0.678064</td>\n",
       "      <td>0.824508</td>\n",
       "      <td>0.070443</td>\n",
       "    </tr>\n",
       "    <tr>\n",
       "      <th>indegree</th>\n",
       "      <td>0.698863</td>\n",
       "      <td>1.000000</td>\n",
       "      <td>0.968885</td>\n",
       "      <td>0.781299</td>\n",
       "      <td>0.962392</td>\n",
       "      <td>0.170393</td>\n",
       "    </tr>\n",
       "    <tr>\n",
       "      <th>indegree_weighted</th>\n",
       "      <td>0.810727</td>\n",
       "      <td>0.968885</td>\n",
       "      <td>1.000000</td>\n",
       "      <td>0.837076</td>\n",
       "      <td>0.990396</td>\n",
       "      <td>0.142335</td>\n",
       "    </tr>\n",
       "    <tr>\n",
       "      <th>outdegree_weighted</th>\n",
       "      <td>0.678064</td>\n",
       "      <td>0.781299</td>\n",
       "      <td>0.837076</td>\n",
       "      <td>1.000000</td>\n",
       "      <td>0.792058</td>\n",
       "      <td>0.150243</td>\n",
       "    </tr>\n",
       "    <tr>\n",
       "      <th>pagerank</th>\n",
       "      <td>0.824508</td>\n",
       "      <td>0.962392</td>\n",
       "      <td>0.990396</td>\n",
       "      <td>0.792058</td>\n",
       "      <td>1.000000</td>\n",
       "      <td>0.141768</td>\n",
       "    </tr>\n",
       "    <tr>\n",
       "      <th>topic_entropy</th>\n",
       "      <td>0.070443</td>\n",
       "      <td>0.170393</td>\n",
       "      <td>0.142335</td>\n",
       "      <td>0.150243</td>\n",
       "      <td>0.141768</td>\n",
       "      <td>1.000000</td>\n",
       "    </tr>\n",
       "  </tbody>\n",
       "</table>\n",
       "</div>"
      ],
      "text/plain": [
       "                        eigenvector_centrality  indegree  indegree_weighted  \\\n",
       "eigenvector_centrality                1.000000  0.698863           0.810727   \n",
       "indegree                              0.698863  1.000000           0.968885   \n",
       "indegree_weighted                     0.810727  0.968885           1.000000   \n",
       "outdegree_weighted                    0.678064  0.781299           0.837076   \n",
       "pagerank                              0.824508  0.962392           0.990396   \n",
       "topic_entropy                         0.070443  0.170393           0.142335   \n",
       "\n",
       "                        outdegree_weighted  pagerank  topic_entropy  \n",
       "eigenvector_centrality            0.678064  0.824508       0.070443  \n",
       "indegree                          0.781299  0.962392       0.170393  \n",
       "indegree_weighted                 0.837076  0.990396       0.142335  \n",
       "outdegree_weighted                1.000000  0.792058       0.150243  \n",
       "pagerank                          0.792058  1.000000       0.141768  \n",
       "topic_entropy                     0.150243  0.141768       1.000000  "
      ]
     },
     "execution_count": 24,
     "metadata": {},
     "output_type": "execute_result"
    }
   ],
   "source": [
    "user_df[user_df['outdegree_weighted'] > 50].corr()"
   ]
  },
  {
   "cell_type": "markdown",
   "metadata": {
    "deletable": true,
    "editable": true
   },
   "source": [
    "** Todo: **\n",
    "- Decide which users you will analyze\n",
    "- Compute the centrality for each user\n",
    "- Compute the topic distribution for each user. \n",
    "- Analyze whether there is a relation between the two measures."
   ]
  },
  {
   "cell_type": "markdown",
   "metadata": {
    "deletable": true,
    "editable": true
   },
   "source": [
    "# Sentiment and centrality "
   ]
  },
  {
   "cell_type": "markdown",
   "metadata": {
    "deletable": true,
    "editable": true
   },
   "source": [
    "In order to become central in the commenter network, sufficient people have to respond to your comment. Enticing others to respond is thus essential. This is more likely when comments are controversial: i.e. many people would disagree with the comment. What is controversial depends on in which environment a statement is made. At any rate, we could expect a controversial statement to be met with criticism. We should then expect that central people are more likely to be criticised, and that they attract relatively many negative comments.\n",
    "\n",
    "Techniques necessary\n",
    "- Sentiment analysis\n",
    "- Centrality"
   ]
  },
  {
   "cell_type": "markdown",
   "metadata": {
    "deletable": true,
    "editable": true
   },
   "source": [
    "## Sentiment analysis"
   ]
  },
  {
   "cell_type": "code",
   "execution_count": 25,
   "metadata": {
    "collapsed": true,
    "deletable": true,
    "editable": true
   },
   "outputs": [],
   "source": [
    "from empath import Empath\n",
    "lexicon = Empath()"
   ]
  },
  {
   "cell_type": "markdown",
   "metadata": {
    "deletable": true,
    "editable": true
   },
   "source": [
    "Take a look at post number 340"
   ]
  },
  {
   "cell_type": "code",
   "execution_count": 26,
   "metadata": {
    "collapsed": false,
    "deletable": true,
    "editable": true
   },
   "outputs": [
    {
     "name": "stdout",
     "output_type": "stream",
     "text": [
      "What nonsense. The country is called \"The United States of America\". States' rights are an integral part of the US and have been so ever since it's existence.\n",
      "\n",
      "What exactly is supposed bad about states' rights? Are you one of those globalist \"world government\" loonies?\n"
     ]
    }
   ],
   "source": [
    "print comments_df.ix[340, 'comment']"
   ]
  },
  {
   "cell_type": "markdown",
   "metadata": {
    "deletable": true,
    "editable": true
   },
   "source": [
    "Analyze the comment using Empath"
   ]
  },
  {
   "cell_type": "code",
   "execution_count": 27,
   "metadata": {
    "collapsed": true,
    "deletable": true,
    "editable": true
   },
   "outputs": [],
   "source": [
    "def tokenize(text):\n",
    "    return list(gensim.utils.simple_preprocess(text))"
   ]
  },
  {
   "cell_type": "code",
   "execution_count": 28,
   "metadata": {
    "collapsed": true,
    "deletable": true,
    "editable": true
   },
   "outputs": [
    {
     "data": {
      "text/plain": [
       "{'achievement': 0.0,\n",
       " 'affection': 0.0,\n",
       " 'aggression': 0.0,\n",
       " 'air_travel': 0.0,\n",
       " 'alcohol': 0.0,\n",
       " 'ancient': 0.0,\n",
       " 'anger': 0.0,\n",
       " 'animal': 0.0,\n",
       " 'anonymity': 0.0,\n",
       " 'anticipation': 0.0,\n",
       " 'appearance': 0.0,\n",
       " 'art': 0.0,\n",
       " 'attractive': 0.0,\n",
       " 'banking': 0.0,\n",
       " 'beach': 0.0,\n",
       " 'beauty': 0.0,\n",
       " 'blue_collar_job': 0.0,\n",
       " 'body': 0.0,\n",
       " 'breaking': 0.0,\n",
       " 'business': 0.0,\n",
       " 'car': 0.0,\n",
       " 'celebration': 0.0,\n",
       " 'cheerfulness': 0.0,\n",
       " 'childish': 0.0,\n",
       " 'children': 0.0,\n",
       " 'cleaning': 0.0,\n",
       " 'clothing': 0.0,\n",
       " 'cold': 0.0,\n",
       " 'college': 0.0,\n",
       " 'communication': 0.0,\n",
       " 'competing': 0.0,\n",
       " 'computer': 0.0,\n",
       " 'confusion': 0.0,\n",
       " 'contentment': 0.0,\n",
       " 'cooking': 0.0,\n",
       " 'crime': 0.0,\n",
       " 'dance': 0.0,\n",
       " 'death': 0.0,\n",
       " 'deception': 0.0,\n",
       " 'disappointment': 0.0,\n",
       " 'disgust': 0.0,\n",
       " 'dispute': 0.0,\n",
       " 'divine': 0.0,\n",
       " 'domestic_work': 0.0,\n",
       " 'dominant_heirarchical': 0.022222222222222223,\n",
       " 'dominant_personality': 0.0,\n",
       " 'driving': 0.0,\n",
       " 'eating': 0.0,\n",
       " 'economics': 0.0,\n",
       " 'emotional': 0.022222222222222223,\n",
       " 'envy': 0.0,\n",
       " 'exasperation': 0.0,\n",
       " 'exercise': 0.0,\n",
       " 'exotic': 0.0,\n",
       " 'fabric': 0.0,\n",
       " 'family': 0.0,\n",
       " 'farming': 0.0,\n",
       " 'fashion': 0.0,\n",
       " 'fear': 0.0,\n",
       " 'feminine': 0.0,\n",
       " 'fight': 0.0,\n",
       " 'fire': 0.0,\n",
       " 'friends': 0.0,\n",
       " 'fun': 0.0,\n",
       " 'furniture': 0.0,\n",
       " 'gain': 0.0,\n",
       " 'giving': 0.0,\n",
       " 'government': 0.044444444444444446,\n",
       " 'hate': 0.022222222222222223,\n",
       " 'healing': 0.0,\n",
       " 'health': 0.0,\n",
       " 'hearing': 0.0,\n",
       " 'help': 0.0,\n",
       " 'heroic': 0.0,\n",
       " 'hiking': 0.0,\n",
       " 'hipster': 0.0,\n",
       " 'home': 0.0,\n",
       " 'horror': 0.0,\n",
       " 'hygiene': 0.0,\n",
       " 'independence': 0.0,\n",
       " 'injury': 0.0,\n",
       " 'internet': 0.0,\n",
       " 'irritability': 0.0,\n",
       " 'journalism': 0.0,\n",
       " 'joy': 0.0,\n",
       " 'kill': 0.0,\n",
       " 'law': 0.022222222222222223,\n",
       " 'leader': 0.022222222222222223,\n",
       " 'legend': 0.0,\n",
       " 'leisure': 0.0,\n",
       " 'liquid': 0.0,\n",
       " 'listen': 0.0,\n",
       " 'love': 0.0,\n",
       " 'lust': 0.0,\n",
       " 'magic': 0.0,\n",
       " 'masculine': 0.0,\n",
       " 'medical_emergency': 0.0,\n",
       " 'medieval': 0.0,\n",
       " 'meeting': 0.0,\n",
       " 'messaging': 0.0,\n",
       " 'military': 0.022222222222222223,\n",
       " 'money': 0.0,\n",
       " 'monster': 0.0,\n",
       " 'morning': 0.0,\n",
       " 'movement': 0.0,\n",
       " 'music': 0.0,\n",
       " 'musical': 0.0,\n",
       " 'negative_emotion': 0.022222222222222223,\n",
       " 'neglect': 0.0,\n",
       " 'negotiate': 0.0,\n",
       " 'nervousness': 0.0,\n",
       " 'night': 0.0,\n",
       " 'noise': 0.0,\n",
       " 'occupation': 0.0,\n",
       " 'ocean': 0.0,\n",
       " 'office': 0.0,\n",
       " 'optimism': 0.0,\n",
       " 'order': 0.0,\n",
       " 'pain': 0.022222222222222223,\n",
       " 'party': 0.0,\n",
       " 'payment': 0.0,\n",
       " 'pet': 0.0,\n",
       " 'philosophy': 0.0,\n",
       " 'phone': 0.0,\n",
       " 'plant': 0.0,\n",
       " 'play': 0.0,\n",
       " 'politeness': 0.0,\n",
       " 'politics': 0.0,\n",
       " 'poor': 0.0,\n",
       " 'positive_emotion': 0.0,\n",
       " 'power': 0.0,\n",
       " 'pride': 0.0,\n",
       " 'prison': 0.0,\n",
       " 'programming': 0.0,\n",
       " 'rage': 0.0,\n",
       " 'reading': 0.0,\n",
       " 'real_estate': 0.0,\n",
       " 'religion': 0.0,\n",
       " 'restaurant': 0.0,\n",
       " 'ridicule': 0.0,\n",
       " 'royalty': 0.0,\n",
       " 'rural': 0.0,\n",
       " 'sadness': 0.0,\n",
       " 'sailing': 0.0,\n",
       " 'school': 0.0,\n",
       " 'science': 0.0,\n",
       " 'sexual': 0.0,\n",
       " 'shame': 0.022222222222222223,\n",
       " 'shape_and_size': 0.0,\n",
       " 'ship': 0.0,\n",
       " 'shopping': 0.0,\n",
       " 'sleep': 0.0,\n",
       " 'smell': 0.0,\n",
       " 'social_media': 0.0,\n",
       " 'sound': 0.0,\n",
       " 'speaking': 0.0,\n",
       " 'sports': 0.0,\n",
       " 'stealing': 0.0,\n",
       " 'strength': 0.0,\n",
       " 'suffering': 0.022222222222222223,\n",
       " 'superhero': 0.0,\n",
       " 'surprise': 0.0,\n",
       " 'swearing_terms': 0.022222222222222223,\n",
       " 'swimming': 0.0,\n",
       " 'sympathy': 0.0,\n",
       " 'technology': 0.0,\n",
       " 'terrorism': 0.0,\n",
       " 'timidity': 0.0,\n",
       " 'tool': 0.0,\n",
       " 'torment': 0.0,\n",
       " 'tourism': 0.0,\n",
       " 'toy': 0.0,\n",
       " 'traveling': 0.0,\n",
       " 'trust': 0.0,\n",
       " 'ugliness': 0.0,\n",
       " 'urban': 0.0,\n",
       " 'vacation': 0.0,\n",
       " 'valuable': 0.0,\n",
       " 'vehicle': 0.0,\n",
       " 'violence': 0.022222222222222223,\n",
       " 'war': 0.0,\n",
       " 'warmth': 0.0,\n",
       " 'water': 0.0,\n",
       " 'weakness': 0.0,\n",
       " 'wealthy': 0.0,\n",
       " 'weapon': 0.0,\n",
       " 'weather': 0.0,\n",
       " 'wedding': 0.0,\n",
       " 'white_collar_job': 0.0,\n",
       " 'work': 0.0,\n",
       " 'worship': 0.0,\n",
       " 'writing': 0.0,\n",
       " 'youth': 0.0,\n",
       " 'zest': 0.0}"
      ]
     },
     "execution_count": 28,
     "metadata": {},
     "output_type": "execute_result"
    }
   ],
   "source": [
    "lexicon.analyze(tokenize(comments_df.iloc[[340]]['comment'].values[0]), normalize=True)"
   ]
  },
  {
   "cell_type": "markdown",
   "metadata": {
    "deletable": true,
    "editable": true
   },
   "source": [
    "Again, we have precomputed the sentiment values (but if you have time: extend it and consider other features as well,\n",
    "                                                like emotion)"
   ]
  },
  {
   "cell_type": "markdown",
   "metadata": {
    "deletable": true,
    "editable": true
   },
   "source": [
    "Very similar to what we did before. Compute the mean for each author (but now we are looking at responses, so we look at 'author_reply_to')"
   ]
  },
  {
   "cell_type": "code",
   "execution_count": 29,
   "metadata": {
    "collapsed": true,
    "deletable": true,
    "editable": true
   },
   "outputs": [],
   "source": [
    "G.vs['sentiment_strength_pos'] = G.strength(mode=ig.IN, weights='pos')\n",
    "G.vs['sentiment_strength_neg'] = G.strength(mode=ig.IN, weights='neg')\n",
    "G.vs['sentiment_strength'] = np.array(G.vs['sentiment_strength_pos']) - np.array(G.vs['sentiment_strength_neg'])"
   ]
  },
  {
   "cell_type": "code",
   "execution_count": 30,
   "metadata": {
    "collapsed": true,
    "deletable": true,
    "editable": true
   },
   "outputs": [],
   "source": [
    "user_df = pd.DataFrame({attr: G.vs[attr] for attr in G.vertex_attributes()}).set_index('name')"
   ]
  },
  {
   "cell_type": "code",
   "execution_count": 31,
   "metadata": {
    "collapsed": false,
    "deletable": true,
    "editable": true
   },
   "outputs": [
    {
     "data": {
      "text/html": [
       "<div>\n",
       "<table border=\"1\" class=\"dataframe\">\n",
       "  <thead>\n",
       "    <tr style=\"text-align: right;\">\n",
       "      <th></th>\n",
       "      <th>eigenvector_centrality</th>\n",
       "      <th>indegree</th>\n",
       "      <th>indegree_weighted</th>\n",
       "      <th>outdegree_weighted</th>\n",
       "      <th>pagerank</th>\n",
       "      <th>sentiment_strength</th>\n",
       "      <th>sentiment_strength_neg</th>\n",
       "      <th>sentiment_strength_pos</th>\n",
       "    </tr>\n",
       "  </thead>\n",
       "  <tbody>\n",
       "    <tr>\n",
       "      <th>eigenvector_centrality</th>\n",
       "      <td>1.000000</td>\n",
       "      <td>0.744752</td>\n",
       "      <td>0.827584</td>\n",
       "      <td>0.724017</td>\n",
       "      <td>0.841163</td>\n",
       "      <td>-0.649749</td>\n",
       "      <td>0.709274</td>\n",
       "      <td>0.685767</td>\n",
       "    </tr>\n",
       "    <tr>\n",
       "      <th>indegree</th>\n",
       "      <td>0.744752</td>\n",
       "      <td>1.000000</td>\n",
       "      <td>0.979954</td>\n",
       "      <td>0.857785</td>\n",
       "      <td>0.972210</td>\n",
       "      <td>-0.873838</td>\n",
       "      <td>0.964279</td>\n",
       "      <td>0.945036</td>\n",
       "    </tr>\n",
       "    <tr>\n",
       "      <th>indegree_weighted</th>\n",
       "      <td>0.827584</td>\n",
       "      <td>0.979954</td>\n",
       "      <td>1.000000</td>\n",
       "      <td>0.891358</td>\n",
       "      <td>0.991086</td>\n",
       "      <td>-0.858091</td>\n",
       "      <td>0.942996</td>\n",
       "      <td>0.919446</td>\n",
       "    </tr>\n",
       "    <tr>\n",
       "      <th>outdegree_weighted</th>\n",
       "      <td>0.724017</td>\n",
       "      <td>0.857785</td>\n",
       "      <td>0.891358</td>\n",
       "      <td>1.000000</td>\n",
       "      <td>0.853220</td>\n",
       "      <td>-0.742593</td>\n",
       "      <td>0.820707</td>\n",
       "      <td>0.805849</td>\n",
       "    </tr>\n",
       "    <tr>\n",
       "      <th>pagerank</th>\n",
       "      <td>0.841163</td>\n",
       "      <td>0.972210</td>\n",
       "      <td>0.991086</td>\n",
       "      <td>0.853220</td>\n",
       "      <td>1.000000</td>\n",
       "      <td>-0.851680</td>\n",
       "      <td>0.935393</td>\n",
       "      <td>0.911355</td>\n",
       "    </tr>\n",
       "    <tr>\n",
       "      <th>sentiment_strength</th>\n",
       "      <td>-0.649749</td>\n",
       "      <td>-0.873838</td>\n",
       "      <td>-0.858091</td>\n",
       "      <td>-0.742593</td>\n",
       "      <td>-0.851680</td>\n",
       "      <td>1.000000</td>\n",
       "      <td>-0.953984</td>\n",
       "      <td>-0.753874</td>\n",
       "    </tr>\n",
       "    <tr>\n",
       "      <th>sentiment_strength_neg</th>\n",
       "      <td>0.709274</td>\n",
       "      <td>0.964279</td>\n",
       "      <td>0.942996</td>\n",
       "      <td>0.820707</td>\n",
       "      <td>0.935393</td>\n",
       "      <td>-0.953984</td>\n",
       "      <td>1.000000</td>\n",
       "      <td>0.916196</td>\n",
       "    </tr>\n",
       "    <tr>\n",
       "      <th>sentiment_strength_pos</th>\n",
       "      <td>0.685767</td>\n",
       "      <td>0.945036</td>\n",
       "      <td>0.919446</td>\n",
       "      <td>0.805849</td>\n",
       "      <td>0.911355</td>\n",
       "      <td>-0.753874</td>\n",
       "      <td>0.916196</td>\n",
       "      <td>1.000000</td>\n",
       "    </tr>\n",
       "  </tbody>\n",
       "</table>\n",
       "</div>"
      ],
      "text/plain": [
       "                        eigenvector_centrality  indegree  indegree_weighted  \\\n",
       "eigenvector_centrality                1.000000  0.744752           0.827584   \n",
       "indegree                              0.744752  1.000000           0.979954   \n",
       "indegree_weighted                     0.827584  0.979954           1.000000   \n",
       "outdegree_weighted                    0.724017  0.857785           0.891358   \n",
       "pagerank                              0.841163  0.972210           0.991086   \n",
       "sentiment_strength                   -0.649749 -0.873838          -0.858091   \n",
       "sentiment_strength_neg                0.709274  0.964279           0.942996   \n",
       "sentiment_strength_pos                0.685767  0.945036           0.919446   \n",
       "\n",
       "                        outdegree_weighted  pagerank  sentiment_strength  \\\n",
       "eigenvector_centrality            0.724017  0.841163           -0.649749   \n",
       "indegree                          0.857785  0.972210           -0.873838   \n",
       "indegree_weighted                 0.891358  0.991086           -0.858091   \n",
       "outdegree_weighted                1.000000  0.853220           -0.742593   \n",
       "pagerank                          0.853220  1.000000           -0.851680   \n",
       "sentiment_strength               -0.742593 -0.851680            1.000000   \n",
       "sentiment_strength_neg            0.820707  0.935393           -0.953984   \n",
       "sentiment_strength_pos            0.805849  0.911355           -0.753874   \n",
       "\n",
       "                        sentiment_strength_neg  sentiment_strength_pos  \n",
       "eigenvector_centrality                0.709274                0.685767  \n",
       "indegree                              0.964279                0.945036  \n",
       "indegree_weighted                     0.942996                0.919446  \n",
       "outdegree_weighted                    0.820707                0.805849  \n",
       "pagerank                              0.935393                0.911355  \n",
       "sentiment_strength                   -0.953984               -0.753874  \n",
       "sentiment_strength_neg                1.000000                0.916196  \n",
       "sentiment_strength_pos                0.916196                1.000000  "
      ]
     },
     "execution_count": 31,
     "metadata": {},
     "output_type": "execute_result"
    }
   ],
   "source": [
    "user_df.corr()"
   ]
  },
  {
   "cell_type": "code",
   "execution_count": 32,
   "metadata": {
    "collapsed": false,
    "deletable": true,
    "editable": true
   },
   "outputs": [
    {
     "data": {
      "text/plain": [
       "<matplotlib.axes._subplots.AxesSubplot at 0x7fe3ea651f10>"
      ]
     },
     "execution_count": 32,
     "metadata": {},
     "output_type": "execute_result"
    },
    {
     "data": {
      "image/png": "[encoded data removed]",
      "text/plain": [
       "<matplotlib.figure.Figure at 0x7fe3ea651450>"
      ]
     },
     "metadata": {},
     "output_type": "display_data"
    }
   ],
   "source": [
    "user_df.plot('indegree', 'sentiment_strength', kind='scatter')"
   ]
  },
  {
   "cell_type": "markdown",
   "metadata": {
    "deletable": true,
    "editable": true
   },
   "source": [
    "# Communities of interest"
   ]
  },
  {
   "cell_type": "markdown",
   "metadata": {
    "deletable": true,
    "editable": true
   },
   "source": [
    "Earlier today you learned that interaction is often homophilous: people with the same interest are more likely to be connected to each other. We will look into this question here on the basis of topics. Two question are central in this assignment: (1) are users that share topics more likely to be connected; and (2) does this create communities of interest.\n",
    "\n",
    "Techniques necessary\n",
    "- Topic modelling\n",
    "- Assortativity\n",
    "- Community detection"
   ]
  },
  {
   "cell_type": "markdown",
   "metadata": {
    "deletable": true,
    "editable": true
   },
   "source": [
    "## Topic modelling"
   ]
  },
  {
   "cell_type": "markdown",
   "metadata": {
    "deletable": true,
    "editable": true
   },
   "source": [
    "We already dispose of the average topic distribution for each user. It is easier to work with a single topic for each user."
   ]
  },
  {
   "cell_type": "code",
   "execution_count": 33,
   "metadata": {
    "collapsed": true,
    "deletable": true,
    "editable": true
   },
   "outputs": [],
   "source": [
    "user_topic = topic_sentiment_user_df.ix[:,'t_0':'t_14'].idxmax(axis=1)"
   ]
  },
  {
   "cell_type": "markdown",
   "metadata": {
    "deletable": true,
    "editable": true
   },
   "source": [
    "Let us put this information from the dataframe in the graph. Because we only have topic information if somebody wrote a post, we will look at the subgraph of people having written at least some number of posts."
   ]
  },
  {
   "cell_type": "code",
   "execution_count": 34,
   "metadata": {
    "collapsed": false,
    "deletable": true,
    "editable": true
   },
   "outputs": [],
   "source": [
    "H = G.subgraph(G.vs.select(outdegree_weighted_ge=50))"
   ]
  },
  {
   "cell_type": "code",
   "execution_count": 35,
   "metadata": {
    "collapsed": true,
    "deletable": true,
    "editable": true
   },
   "outputs": [],
   "source": [
    "H.vs['user_topic'] = user_topic.ix[H.vs['name']].str[2:].astype(int)"
   ]
  },
  {
   "cell_type": "markdown",
   "metadata": {
    "deletable": true,
    "editable": true
   },
   "source": [
    "## Assortativity"
   ]
  },
  {
   "cell_type": "markdown",
   "metadata": {
    "deletable": true,
    "editable": true
   },
   "source": [
    "The assortativity is easy to calculate:"
   ]
  },
  {
   "cell_type": "code",
   "execution_count": 37,
   "metadata": {
    "collapsed": false,
    "deletable": true,
    "editable": true
   },
   "outputs": [
    {
     "data": {
      "text/plain": [
       "0.021013364403667398"
      ]
     },
     "execution_count": 37,
     "metadata": {},
     "output_type": "execute_result"
    }
   ],
   "source": [
    "H.assortativity_nominal(types='user_topic')"
   ]
  },
  {
   "cell_type": "markdown",
   "metadata": {
    "deletable": true,
    "editable": true
   },
   "source": [
    "## Community detection"
   ]
  },
  {
   "cell_type": "markdown",
   "metadata": {
    "deletable": true,
    "editable": true
   },
   "source": [
    "The most difficult part of community detection is deciding what method is appropriate and sometimes what resolution is appropriate. Modularity is the most often used, and can be obtained as follows:"
   ]
  },
  {
   "cell_type": "markdown",
   "metadata": {
    "deletable": true,
    "editable": true
   },
   "source": [
    "<div class=\"alert alert-warning\">\n",
    "Detecting communities may take some time.\n",
    "</div>"
   ]
  },
  {
   "cell_type": "code",
   "execution_count": null,
   "metadata": {
    "collapsed": true,
    "deletable": true,
    "editable": true
   },
   "outputs": [],
   "source": [
    "mod_partition = louvain.find_partition(H, 'Modularity', weight='count')"
   ]
  },
  {
   "cell_type": "markdown",
   "metadata": {
    "deletable": true,
    "editable": true
   },
   "source": [
    "Now compare it to the partition based on the topics."
   ]
  },
  {
   "cell_type": "code",
   "execution_count": null,
   "metadata": {
    "collapsed": true,
    "deletable": true,
    "editable": true
   },
   "outputs": [],
   "source": [
    "topic_partition = ig.VertexClustering.FromAttribute(H, 'user_topic')\n",
    "mod_partition.compare_to(topic_partition, 'nmi')"
   ]
  },
  {
   "cell_type": "markdown",
   "metadata": {
    "deletable": true,
    "editable": true
   },
   "source": [
    "Alternatively, you can try out CPM, using various resolution values. Good resolution values are usually quite small, but this may depend on the weight. Around a resolution parameter of 1e-5 seems to be most interesting."
   ]
  },
  {
   "cell_type": "code",
   "execution_count": null,
   "metadata": {
    "collapsed": true,
    "deletable": true,
    "editable": true
   },
   "outputs": [],
   "source": [
    "CPM_partition = louvain.find_partition(H, 'CPM', weight='count', resolution_parameter=0.01)"
   ]
  },
  {
   "cell_type": "code",
   "execution_count": null,
   "metadata": {
    "collapsed": true,
    "deletable": true,
    "editable": true
   },
   "outputs": [],
   "source": [
    "CPM_partition.sizes()[:10]"
   ]
  },
  {
   "cell_type": "code",
   "execution_count": null,
   "metadata": {
    "collapsed": true,
    "deletable": true,
    "editable": true
   },
   "outputs": [],
   "source": [
    "CPM_partition.compare_to(topic_partition, 'nmi')"
   ]
  },
  {
   "cell_type": "markdown",
   "metadata": {
    "deletable": true,
    "editable": true
   },
   "source": [
    "# Sentiment and language across communities"
   ]
  },
  {
   "cell_type": "markdown",
   "metadata": {
    "deletable": true,
    "editable": true
   },
   "source": [
    "Following social balance theory, it is possible that the commenter network is polarized (not implausible given the divisive US politics). Simply looking at communication while disregarding the valence of the link (i.e. whether it was negative or positive) may distort our view of the integration of the network. We will use sentiment analysis of the comments to determine whether the links are in fact negative or positive. In this assignment two question are central: (1)  is sentiment different within sentiment different from sentiment between groups?; and (2) does the valence of links change the community structure?\n",
    "\n",
    "Techniques necessary\n",
    "- Sentiment analysis\n",
    "- Community detection"
   ]
  },
  {
   "cell_type": "markdown",
   "metadata": {
    "deletable": true,
    "editable": true
   },
   "source": [
    "## Sentiment analysis"
   ]
  },
  {
   "cell_type": "markdown",
   "metadata": {
    "deletable": true,
    "editable": true
   },
   "source": [
    "First construct a single measure for whether a link is positive or negative."
   ]
  },
  {
   "cell_type": "code",
   "execution_count": null,
   "metadata": {
    "collapsed": true,
    "deletable": true,
    "editable": true
   },
   "outputs": [],
   "source": [
    "H.es['sentiment'] = np.array(H.es['pos']) - np.array(H.es['neg'])"
   ]
  },
  {
   "cell_type": "markdown",
   "metadata": {
    "deletable": true,
    "editable": true
   },
   "source": [
    "Now look at whether it is more positive or negative between the communities we previously detected."
   ]
  },
  {
   "cell_type": "code",
   "execution_count": null,
   "metadata": {
    "collapsed": true,
    "deletable": true,
    "editable": true
   },
   "outputs": [],
   "source": [
    "edge_sentiment_group_df = pd.DataFrame({'sentiment': H.es['sentiment'],\n",
    "                                        'crossing': CPM_partition.crossing()})\n",
    "edge_sentiment_group_df.groupby('crossing').agg(['mean', 'std'])"
   ]
  },
  {
   "cell_type": "markdown",
   "metadata": {
    "deletable": true,
    "editable": true
   },
   "source": [
    "## Community detection"
   ]
  },
  {
   "cell_type": "markdown",
   "metadata": {
    "deletable": true,
    "editable": true
   },
   "source": [
    "Modularity is ordinarily not suited for community detection if the weights are negative. This can be corrected though, as is illustrated below."
   ]
  },
  {
   "cell_type": "code",
   "execution_count": null,
   "metadata": {
    "collapsed": true,
    "deletable": true,
    "editable": true
   },
   "outputs": [],
   "source": [
    "H_positive = H.subgraph_edges(H.es.select(sentiment_gt=0), delete_vertices=False)\n",
    "H_negative = H.subgraph_edges(H.es.select(sentiment_lt=0), delete_vertices=False)\n",
    "\n",
    "membership, quality = louvain.find_partition_multiplex([\n",
    "louvain.Layer(graph=H_positive, method='Modularity', weight='sentiment', layer_weight=1.0),\n",
    "louvain.Layer(graph=H_negative, method='Modularity', weight='sentiment', layer_weight=-1.0)])\n",
    "balance_partition = ig.VertexClustering(H, membership)"
   ]
  },
  {
   "cell_type": "markdown",
   "metadata": {
    "deletable": true,
    "editable": true
   },
   "source": [
    "Let us compare this partition to the previous parition we got using modularity."
   ]
  },
  {
   "cell_type": "code",
   "execution_count": null,
   "metadata": {
    "collapsed": true,
    "deletable": true,
    "editable": true
   },
   "outputs": [],
   "source": [
    "mod_partition.compare_to(balance_partition, 'nmi')"
   ]
  }
 ],
 "metadata": {
  "kernelspec": {
   "display_name": "Python 2",
   "language": "python",
   "name": "python2"
  },
  "language_info": {
   "codemirror_mode": {
    "name": "ipython",
    "version": 2
   },
   "file_extension": ".py",
   "mimetype": "text/x-python",
   "name": "python",
   "nbconvert_exporter": "python",
   "pygments_lexer": "ipython2",
   "version": "2.7.12"
  }
 },
 "nbformat": 4,
 "nbformat_minor": 2
}
